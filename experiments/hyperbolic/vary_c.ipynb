{
 "cells": [
  {
   "cell_type": "code",
   "execution_count": 1,
   "metadata": {},
   "outputs": [],
   "source": [
    "import matplotlib.pyplot as plt\n",
    "from Main import plot_monoplex, plot_monoplex_with_ap_removal"
   ]
  },
  {
   "cell_type": "code",
   "execution_count": 2,
   "metadata": {},
   "outputs": [],
   "source": [
    "N = 5000\n",
    "T = .4"
   ]
  },
  {
   "cell_type": "code",
   "execution_count": 3,
   "metadata": {},
   "outputs": [],
   "source": [
    "gamma_vals = [2.5, 3., 3.5, 4., 6.]\n",
    "gamma_vals = [3.]\n",
    "kbar_vals = [.1, 2.5, 5., 7.5, 10.]"
   ]
  },
  {
   "cell_type": "code",
   "execution_count": 6,
   "metadata": {},
   "outputs": [
    {
     "name": "stdout",
     "output_type": "stream",
     "text": [
      "kmin:  0.05\n",
      "C:  0.029720516134223548\n",
      "R:  24.066221768275167\n",
      "number of links:\t 254\n",
      "kmin:  1.25\n",
      "C:  0.7430129033555886\n",
      "R:  17.628470118538765\n",
      "number of links:\t 6155\n",
      "kmin:  2.5\n",
      "C:  1.4860258067111771\n",
      "R:  16.242175757418874\n",
      "number of links:\t 12254\n",
      "kmin:  3.75\n",
      "C:  2.229038710066766\n",
      "R:  15.431245541202545\n",
      "number of links:\t 18158\n",
      "kmin:  5.0\n",
      "C:  2.9720516134223542\n",
      "R:  14.855881396298983\n",
      "number of links:\t 24210\n"
     ]
    }
   ],
   "source": [
    "fig, axes = plt.subplots(\n",
    "    nrows=len(gamma_vals),\n",
    "    ncols=len(kbar_vals),\n",
    "    figsize=(12, 12),\n",
    "    subplot_kw={'projection': 'polar'},\n",
    ")\n",
    "for i, gamma in enumerate(gamma_vals):\n",
    "    for j, kbar in enumerate(kbar_vals):\n",
    "        if len(gamma_vals) == 1:\n",
    "            ax = axes[j]\n",
    "        elif len(kbar_vals) == 1:\n",
    "            ax = axes[i]\n",
    "        else:\n",
    "            ax = axes[i, j]\n",
    "        plot_monoplex(N, gamma, kbar, T, ax=ax)\n",
    "\n",
    "        if j == 0:\n",
    "            ax.set_ylabel(fr'$\\lambda = {gamma}$')\n",
    "        if i == len(gamma_vals) - 1:\n",
    "            ax.set_xlabel(fr'$c = {kbar}$')"
   ]
  },
  {
   "cell_type": "code",
   "execution_count": 17,
   "metadata": {},
   "outputs": [],
   "source": [
    "fig.savefig('vary_c_plot.pdf', bbox_inches='tight')"
   ]
  },
  {
   "cell_type": "code",
   "execution_count": 4,
   "metadata": {},
   "outputs": [
    {
     "name": "stdout",
     "output_type": "stream",
     "text": [
      "kmin:  0.05\n",
      "C:  0.029720516134223548\n",
      "R:  24.066221768275167\n"
     ]
    },
    {
     "name": "stderr",
     "output_type": "stream",
     "text": [
      "findfont: Generic family 'sans-serif' not found because none of the following families were found: Helvetica\n",
      "findfont: Generic family 'sans-serif' not found because none of the following families were found: Helvetica\n"
     ]
    },
    {
     "name": "stdout",
     "output_type": "stream",
     "text": [
      "number of links:\t 254\n",
      "\n",
      "Starting AP removal\n",
      "AP removal: iteration 1\n",
      "AP removal: 2 APs\n",
      "AP removal: removed 447 nodes\n",
      "AP removal: iteration 2\n",
      "AP removal: 0 APs\n",
      "AP removal: removed 12 nodes\n"
     ]
    },
    {
     "name": "stderr",
     "output_type": "stream",
     "text": [
      "findfont: Generic family 'sans-serif' not found because none of the following families were found: Helvetica\n",
      "findfont: Generic family 'sans-serif' not found because none of the following families were found: Helvetica\n",
      "findfont: Generic family 'sans-serif' not found because none of the following families were found: Helvetica\n",
      "findfont: Generic family 'sans-serif' not found because none of the following families were found: Helvetica\n",
      "findfont: Generic family 'sans-serif' not found because none of the following families were found: Helvetica\n",
      "findfont: Generic family 'sans-serif' not found because none of the following families were found: Helvetica\n",
      "findfont: Generic family 'sans-serif' not found because none of the following families were found: Helvetica\n",
      "findfont: Generic family 'sans-serif' not found because none of the following families were found: Helvetica\n",
      "findfont: Generic family 'sans-serif' not found because none of the following families were found: Helvetica\n"
     ]
    },
    {
     "name": "stdout",
     "output_type": "stream",
     "text": [
      "kmin:  1.25\n",
      "C:  0.7430129033555886\n",
      "R:  17.628470118538765\n",
      "number of links:\t 6155\n",
      "\n",
      "Starting AP removal\n"
     ]
    },
    {
     "name": "stderr",
     "output_type": "stream",
     "text": [
      "findfont: Font family ['sans-serif'] not found. Falling back to DejaVu Sans.\n",
      "findfont: Generic family 'sans-serif' not found because none of the following families were found: Helvetica\n"
     ]
    },
    {
     "name": "stdout",
     "output_type": "stream",
     "text": [
      "AP removal: iteration 1\n",
      "AP removal: 644 APs\n",
      "AP removal: removed 2116 nodes\n",
      "AP removal: iteration 2\n",
      "AP removal: 31 APs\n",
      "AP removal: removed 2030 nodes\n",
      "AP removal: iteration 3\n",
      "AP removal: 7 APs\n",
      "AP removal: removed 63 nodes\n",
      "AP removal: iteration 4\n",
      "AP removal: 2 APs\n",
      "AP removal: removed 9 nodes\n",
      "AP removal: iteration 5\n",
      "AP removal: 0 APs\n",
      "AP removal: removed 1 nodes\n",
      "kmin:  2.5\n",
      "C:  1.4860258067111771\n",
      "R:  16.242175757418874\n",
      "number of links:\t 12254\n",
      "\n",
      "Starting AP removal\n",
      "AP removal: iteration 1\n",
      "AP removal: 467 APs\n",
      "AP removal: removed 602 nodes\n",
      "AP removal: iteration 2\n",
      "AP removal: 187 APs\n",
      "AP removal: removed 2817 nodes\n",
      "AP removal: iteration 3\n",
      "AP removal: 25 APs\n",
      "AP removal: removed 1165 nodes\n",
      "AP removal: iteration 4\n",
      "AP removal: 21 APs\n",
      "AP removal: removed 69 nodes\n",
      "AP removal: iteration 5\n",
      "AP removal: 9 APs\n",
      "AP removal: removed 128 nodes\n",
      "AP removal: iteration 6\n",
      "AP removal: 5 APs\n",
      "AP removal: removed 36 nodes\n",
      "AP removal: iteration 7\n",
      "AP removal: 5 APs\n",
      "AP removal: removed 13 nodes\n",
      "AP removal: iteration 8\n",
      "AP removal: 3 APs\n",
      "AP removal: removed 6 nodes\n",
      "AP removal: iteration 9\n",
      "AP removal: 0 APs\n",
      "AP removal: removed 3 nodes\n",
      "kmin:  3.75\n",
      "C:  2.229038710066766\n",
      "R:  15.431245541202545\n",
      "number of links:\t 18158\n",
      "\n",
      "Starting AP removal\n",
      "AP removal: iteration 1\n",
      "AP removal: 142 APs\n",
      "AP removal: removed 160 nodes\n",
      "AP removal: iteration 2\n",
      "AP removal: 101 APs\n",
      "AP removal: removed 285 nodes\n",
      "AP removal: iteration 3\n",
      "AP removal: 87 APs\n",
      "AP removal: removed 248 nodes\n",
      "AP removal: iteration 4\n",
      "AP removal: 59 APs\n",
      "AP removal: removed 228 nodes\n",
      "AP removal: iteration 5\n",
      "AP removal: 29 APs\n",
      "AP removal: removed 204 nodes\n",
      "AP removal: iteration 6\n",
      "AP removal: 20 APs\n",
      "AP removal: removed 92 nodes\n",
      "AP removal: iteration 7\n",
      "AP removal: 15 APs\n",
      "AP removal: removed 122 nodes\n",
      "AP removal: iteration 8\n",
      "AP removal: 8 APs\n",
      "AP removal: removed 61 nodes\n",
      "AP removal: iteration 9\n",
      "AP removal: 4 APs\n",
      "AP removal: removed 63 nodes\n",
      "AP removal: iteration 10\n",
      "AP removal: 0 APs\n",
      "AP removal: removed 2 nodes\n",
      "kmin:  5.0\n",
      "C:  2.9720516134223542\n",
      "R:  14.855881396298983\n",
      "number of links:\t 24210\n",
      "\n",
      "Starting AP removal\n",
      "AP removal: iteration 1\n",
      "AP removal: 56 APs\n",
      "AP removal: removed 56 nodes\n",
      "AP removal: iteration 2\n",
      "AP removal: 29 APs\n",
      "AP removal: removed 83 nodes\n",
      "AP removal: iteration 3\n",
      "AP removal: 13 APs\n",
      "AP removal: removed 51 nodes\n",
      "AP removal: iteration 4\n",
      "AP removal: 3 APs\n",
      "AP removal: removed 15 nodes\n",
      "AP removal: iteration 5\n",
      "AP removal: 0 APs\n",
      "AP removal: removed 7 nodes\n"
     ]
    }
   ],
   "source": [
    "fig, axes = plt.subplots(\n",
    "    nrows=len(gamma_vals),\n",
    "    ncols=len(kbar_vals),\n",
    "    figsize=(12, 12),\n",
    "    subplot_kw={'projection': 'polar'},\n",
    ")\n",
    "for i, gamma in enumerate(gamma_vals):\n",
    "    for j, kbar in enumerate(kbar_vals):\n",
    "        if len(gamma_vals) == 1:\n",
    "            ax = axes[j]\n",
    "        elif len(kbar_vals) == 1:\n",
    "            ax = axes[i]\n",
    "        else:\n",
    "            ax = axes[i, j]\n",
    "        plot_monoplex_with_ap_removal(N, gamma, kbar, T, ax=ax)\n",
    "\n",
    "        if j == 0:\n",
    "            ax.set_ylabel(fr'$\\lambda = {gamma}$')\n",
    "        if i == len(gamma_vals) - 1:\n",
    "            ax.set_xlabel(fr'$c = {kbar}$')\n",
    "\n",
    "        if i == 0 and j == len(kbar_vals) - 1:\n",
    "            ax.legend(\n",
    "                bbox_to_anchor=(1, 1, .5, .15),\n",
    "                loc='upper left',\n",
    "                numpoints=1,\n",
    "                markerscale=1.,\n",
    "                prop={'size': 6},\n",
    "            )"
   ]
  },
  {
   "cell_type": "code",
   "execution_count": 5,
   "metadata": {},
   "outputs": [
    {
     "name": "stderr",
     "output_type": "stream",
     "text": [
      "findfont: Generic family 'sans-serif' not found because none of the following families were found: Helvetica\n",
      "findfont: Generic family 'sans-serif' not found because none of the following families were found: Helvetica\n"
     ]
    }
   ],
   "source": [
    "fig.savefig('vary_c_with_ap_removal.pdf', bbox_inches='tight')"
   ]
  }
 ],
 "metadata": {
  "kernelspec": {
   "display_name": "graphs",
   "language": "python",
   "name": "python3"
  },
  "language_info": {
   "codemirror_mode": {
    "name": "ipython",
    "version": 3
   },
   "file_extension": ".py",
   "mimetype": "text/x-python",
   "name": "python",
   "nbconvert_exporter": "python",
   "pygments_lexer": "ipython3",
   "version": "3.10.4"
  }
 },
 "nbformat": 4,
 "nbformat_minor": 2
}
