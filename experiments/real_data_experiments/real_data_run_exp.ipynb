{
 "cells": [
  {
   "cell_type": "markdown",
   "metadata": {},
   "source": [
    "# Preliminaries"
   ]
  },
  {
   "cell_type": "code",
   "execution_count": 2,
   "metadata": {},
   "outputs": [],
   "source": [
    "import random\n",
    "import os\n",
    "from copy import deepcopy\n",
    "\n",
    "import networkx as nx\n",
    "import numpy as np\n",
    "import matplotlib.pyplot as plt\n",
    "import pymnet\n",
    "import powerlaw"
   ]
  },
  {
   "cell_type": "code",
   "execution_count": 3,
   "metadata": {},
   "outputs": [],
   "source": [
    "plt.rc('text', usetex=True)\n",
    "plt.rc('font', size=36, **{'family': 'sans-serif', 'sans-serif': ['Helvetica']})\n",
    "plt.rcParams['xtick.major.pad'] = 8\n",
    "plt.rcParams['ytick.major.pad'] = 8\n",
    "plt.rcParams['savefig.bbox'] = 'tight'"
   ]
  },
  {
   "cell_type": "code",
   "execution_count": 4,
   "metadata": {},
   "outputs": [],
   "source": [
    "# %matplotlib inline"
   ]
  },
  {
   "cell_type": "code",
   "execution_count": 5,
   "metadata": {},
   "outputs": [
    {
     "data": {
      "text/plain": [
       "({'Air_Train': ['Air network', 'Train network'],\n",
       "  'arXiv': ['physics.bioph category',\n",
       "   'cond-mat.disnn category',\n",
       "   'physics.soc-ph',\n",
       "   'physics.data-an category',\n",
       "   'math.OC category',\n",
       "   'cond-mat.stat-mech category',\n",
       "   'q-bio.MN category',\n",
       "   'cs.SI category'],\n",
       "  'C. Elegans Connectomme': ['Electric',\n",
       "   'Chemical Monadic',\n",
       "   'Chemical Polyadic'],\n",
       "  'Drosophila Melanogaster': ['suppressive genetic interaction',\n",
       "   'additive genetic interaction'],\n",
       "  'Human Brain': ['structural brain network', 'functional brain network'],\n",
       "  'IPv4_IPv6 Internet': ['IPv4 topology', 'IPv6 topology'],\n",
       "  'Physicians': ['advice', 'discussion', 'friendship'],\n",
       "  'Rattus': ['physical association', 'direct interaction'],\n",
       "  'SacchPomb': ['direct interaction',\n",
       "   'colocalization',\n",
       "   'physical association',\n",
       "   'synthetic genetic interaction',\n",
       "   'association'],\n",
       "  'London_Multiplex_Transport': ['Tube (All underground lines aggregated)',\n",
       "   'Overground',\n",
       "   'DLR'],\n",
       "  'NYClimateMarch2014_Multiplex_Social': ['RT', 'MT', 'RE'],\n",
       "  'Cannes2013_Multiplex_Social': ['RT', 'MT', 'RE'],\n",
       "  'MoscowAthletics2013_Multiplex_Social': ['RT', 'MT', 'RE'],\n",
       "  'MLKing2013_Multiplex_Social': ['RT', 'MT', 'RE'],\n",
       "  'ObamaInIsrael2013_Multiplex_Social': ['RT', 'MT', 'RE'],\n",
       "  'CS-Aarhus_Multiplex_Social': ['lunch',\n",
       "   'facebook',\n",
       "   'coauthor',\n",
       "   'leisure',\n",
       "   'work'],\n",
       "  'Arabidopsis_Multiplex_Genetic': ['direct_interaction',\n",
       "   'physical_association',\n",
       "   'additive_genetic_interaction_defined_by_inequality',\n",
       "   'suppressive_genetic_interaction_defined_by_inequality',\n",
       "   'synthetic_genetic_interaction_defined_by_inequality',\n",
       "   'association',\n",
       "   'colocalization'],\n",
       "  'Bos_Multiplex_Genetic': ['physical_association',\n",
       "   'association',\n",
       "   'direct_interaction',\n",
       "   'colocalization'],\n",
       "  'Celegans_Multiplex_Genetic': ['direct_interaction',\n",
       "   'physical_association',\n",
       "   'additive_genetic_interaction_defined_by_inequality',\n",
       "   'suppressive_genetic_interaction_defined_by_inequality',\n",
       "   'association',\n",
       "   'colocalization'],\n",
       "  'Drosophila_Multiplex_Genetic': ['direct_interaction',\n",
       "   'suppressive_genetic_interaction_defined_by_inequality',\n",
       "   'additive_genetic_interaction_defined_by_inequality',\n",
       "   'physical_association',\n",
       "   'colocalization',\n",
       "   'association',\n",
       "   'synthetic_genetic_interaction_defined_by_inequality'],\n",
       "  'SacchCere_Multiplex_Genetic': ['physical_association',\n",
       "   'suppressive_genetic_interaction_defined_by_inequality',\n",
       "   'direct_interaction',\n",
       "   'synthetic_genetic_interaction_defined_by_inequality',\n",
       "   'association',\n",
       "   'colocalization',\n",
       "   'additive_genetic_interaction_defined_by_inequality'],\n",
       "  'YeastLandscape_Multiplex_Genetic': ['positive_interactions',\n",
       "   'negative_interactions',\n",
       "   'positive_correlations',\n",
       "   'negative_correlations'],\n",
       "  'CovMulNet19': ['COVID19-GDDS332', 'COVID19-GDDS457'],\n",
       "  'arXiv-Netscience_Multiplex_Coauthorship': ['physics.soc-ph',\n",
       "   'physics.data-an',\n",
       "   'physics.bio-ph',\n",
       "   'math-ph',\n",
       "   'math.OC',\n",
       "   'cond-mat.dis-nn',\n",
       "   'cond-mat.stat-mech',\n",
       "   'q-bio.MN',\n",
       "   'q-bio',\n",
       "   'q-bio.BM',\n",
       "   'nlin.AO',\n",
       "   'cs.SI',\n",
       "   'cs.CV'],\n",
       "  'air_data': ['Lufthansa',\n",
       "   'Ryanair',\n",
       "   'Easyjet',\n",
       "   'Airways',\n",
       "   'Airlines',\n",
       "   'Berlin',\n",
       "   'France',\n",
       "   'Airlines',\n",
       "   'KLM',\n",
       "   'Alitalia',\n",
       "   'Lines',\n",
       "   'Iberia',\n",
       "   'Shuttle',\n",
       "   'Airlines',\n",
       "   'Flybe',\n",
       "   'Air',\n",
       "   'Portugal',\n",
       "   'Airlines',\n",
       "   'Finnair',\n",
       "   'Airlines',\n",
       "   'Airlines',\n",
       "   'Nostrum',\n",
       "   'Lingus',\n",
       "   'Germanwings',\n",
       "   'Airlines',\n",
       "   'Netjets',\n",
       "   'Holland',\n",
       "   'Niki',\n",
       "   'SunExpress',\n",
       "   'Airlines',\n",
       "   'Airlines',\n",
       "   'Transport',\n",
       "   'Airlines',\n",
       "   'Baltic',\n",
       "   'Wideroe',\n",
       "   'Airways',\n",
       "   'Air']},\n",
       " ['Air_Train',\n",
       "  'arXiv',\n",
       "  'C. Elegans Connectomme',\n",
       "  'Drosophila Melanogaster',\n",
       "  'Human Brain',\n",
       "  'IPv4_IPv6 Internet',\n",
       "  'Physicians',\n",
       "  'Rattus',\n",
       "  'SacchPomb',\n",
       "  'London_Multiplex_Transport',\n",
       "  'NYClimateMarch2014_Multiplex_Social',\n",
       "  'Cannes2013_Multiplex_Social',\n",
       "  'MoscowAthletics2013_Multiplex_Social',\n",
       "  'MLKing2013_Multiplex_Social',\n",
       "  'ObamaInIsrael2013_Multiplex_Social',\n",
       "  'CS-Aarhus_Multiplex_Social',\n",
       "  'Arabidopsis_Multiplex_Genetic',\n",
       "  'Bos_Multiplex_Genetic',\n",
       "  'Celegans_Multiplex_Genetic',\n",
       "  'Drosophila_Multiplex_Genetic',\n",
       "  'SacchCere_Multiplex_Genetic',\n",
       "  'YeastLandscape_Multiplex_Genetic',\n",
       "  'CovMulNet19',\n",
       "  'arXiv-Netscience_Multiplex_Coauthorship',\n",
       "  'air_data'])"
      ]
     },
     "execution_count": 5,
     "metadata": {},
     "output_type": "execute_result"
    }
   ],
   "source": [
    "data_path = 'multiplex_embeddings_data'\n",
    "datasets_layer_description = {  # {dataset: [layer_1 description, layer_2 description, ...]}\n",
    "    'Air_Train': [\n",
    "        'Air network',\n",
    "        'Train network',\n",
    "    ],\n",
    "    'arXiv': [\n",
    "        'physics.bioph category',\n",
    "        'cond-mat.disnn category',\n",
    "        'physics.soc-ph',\n",
    "        'physics.data-an category',\n",
    "        'math.OC category',\n",
    "        'cond-mat.stat-mech category',\n",
    "        'q-bio.MN category',\n",
    "        'cs.SI category',\n",
    "    ],\n",
    "    'C. Elegans Connectomme': [\n",
    "        'Electric',\n",
    "        'Chemical Monadic',\n",
    "        'Chemical Polyadic',\n",
    "    ],\n",
    "    'Drosophila Melanogaster': [  # meh\n",
    "        'suppressive genetic interaction',\n",
    "        'additive genetic interaction',\n",
    "    ],\n",
    "    'Human Brain': [\n",
    "        'structural brain network',\n",
    "        'functional brain network',\n",
    "    ],\n",
    "    'IPv4_IPv6 Internet': [  # meh\n",
    "        'IPv4 topology',\n",
    "        'IPv6 topology',\n",
    "    ],\n",
    "    'Physicians': [\n",
    "        'advice',\n",
    "        'discussion',\n",
    "        'friendship',\n",
    "    ],\n",
    "    'Rattus': [  # meh\n",
    "        'physical association',\n",
    "        'direct interaction',\n",
    "    ],\n",
    "    'SacchPomb': [\n",
    "        'direct interaction',\n",
    "        'colocalization',\n",
    "        'physical association',\n",
    "        'synthetic genetic interaction',\n",
    "        'association',\n",
    "    ],\n",
    "    'London_Multiplex_Transport': [\n",
    "        'Tube (All underground lines aggregated)',\n",
    "        'Overground',\n",
    "        'DLR',\n",
    "    ],\n",
    "    'NYClimateMarch2014_Multiplex_Social': [\n",
    "        'RT',\n",
    "        'MT',\n",
    "        'RE',\n",
    "    ],\n",
    "    'Cannes2013_Multiplex_Social': [\n",
    "        'RT',\n",
    "        'MT',\n",
    "        'RE',\n",
    "    ],\n",
    "    'MoscowAthletics2013_Multiplex_Social': [\n",
    "        'RT',\n",
    "        'MT',\n",
    "        'RE',\n",
    "    ],\n",
    "    'MLKing2013_Multiplex_Social': [\n",
    "        'RT',\n",
    "        'MT',\n",
    "        'RE',\n",
    "    ],\n",
    "    'ObamaInIsrael2013_Multiplex_Social': [\n",
    "        'RT',\n",
    "        'MT',\n",
    "        'RE',\n",
    "    ],\n",
    "    'CS-Aarhus_Multiplex_Social': [\n",
    "        'lunch',\n",
    "        'facebook',\n",
    "        'coauthor',\n",
    "        'leisure',\n",
    "        'work',\n",
    "    ],\n",
    "    'Arabidopsis_Multiplex_Genetic': [\n",
    "        'direct_interaction',\n",
    "        'physical_association',\n",
    "        'additive_genetic_interaction_defined_by_inequality',\n",
    "        'suppressive_genetic_interaction_defined_by_inequality',\n",
    "        'synthetic_genetic_interaction_defined_by_inequality',\n",
    "        'association',\n",
    "        'colocalization',\n",
    "    ],\n",
    "    'Bos_Multiplex_Genetic': [\n",
    "        'physical_association',\n",
    "        'association',\n",
    "        'direct_interaction',\n",
    "        'colocalization',\n",
    "    ],\n",
    "    'Celegans_Multiplex_Genetic': [\n",
    "        'direct_interaction',\n",
    "        'physical_association',\n",
    "        'additive_genetic_interaction_defined_by_inequality',\n",
    "        'suppressive_genetic_interaction_defined_by_inequality',\n",
    "        'association',\n",
    "        'colocalization',\n",
    "    ],\n",
    "    'Drosophila_Multiplex_Genetic': [\n",
    "        'direct_interaction',\n",
    "        'suppressive_genetic_interaction_defined_by_inequality',\n",
    "        'additive_genetic_interaction_defined_by_inequality',\n",
    "        'physical_association',\n",
    "        'colocalization',\n",
    "        'association',\n",
    "        'synthetic_genetic_interaction_defined_by_inequality',\n",
    "    ],\n",
    "    'SacchCere_Multiplex_Genetic': [\n",
    "        'physical_association',\n",
    "        'suppressive_genetic_interaction_defined_by_inequality',\n",
    "        'direct_interaction',\n",
    "        'synthetic_genetic_interaction_defined_by_inequality',\n",
    "        'association',\n",
    "        'colocalization',\n",
    "        'additive_genetic_interaction_defined_by_inequality',\n",
    "    ],\n",
    "    'YeastLandscape_Multiplex_Genetic': [\n",
    "        'positive_interactions',\n",
    "        'negative_interactions',\n",
    "        'positive_correlations',\n",
    "        'negative_correlations',\n",
    "    ],\n",
    "    'CovMulNet19': [\n",
    "        'COVID19-GDDS332',\n",
    "        'COVID19-GDDS457',\n",
    "    ],\n",
    "    'arXiv-Netscience_Multiplex_Coauthorship': [\n",
    "        'physics.soc-ph',\n",
    "        'physics.data-an',\n",
    "        'physics.bio-ph',\n",
    "        'math-ph',\n",
    "        'math.OC',\n",
    "        'cond-mat.dis-nn',\n",
    "        'cond-mat.stat-mech',\n",
    "        'q-bio.MN',\n",
    "        'q-bio',\n",
    "        'q-bio.BM',\n",
    "        'nlin.AO',\n",
    "        'cs.SI',\n",
    "        'cs.CV',\n",
    "    ],\n",
    "    'air_data': [\n",
    "        'Lufthansa',\n",
    "        'Ryanair',\n",
    "        'Easyjet',\n",
    "        'Airways',\n",
    "        'Airlines',\n",
    "        'Berlin',\n",
    "        'France',\n",
    "        'Airlines',\n",
    "        'KLM',\n",
    "        'Alitalia',\n",
    "        'Lines',\n",
    "        'Iberia',\n",
    "        'Shuttle',\n",
    "        'Airlines',\n",
    "        'Flybe',\n",
    "        'Air',\n",
    "        'Portugal',\n",
    "        'Airlines',\n",
    "        'Finnair',\n",
    "        'Airlines',\n",
    "        'Airlines',\n",
    "        'Nostrum',\n",
    "        'Lingus',\n",
    "        'Germanwings',\n",
    "        'Airlines',\n",
    "        'Netjets',\n",
    "        'Holland',\n",
    "        'Niki',\n",
    "        'SunExpress',\n",
    "        'Airlines',\n",
    "        'Airlines',\n",
    "        'Transport',\n",
    "        'Airlines',\n",
    "        'Baltic',\n",
    "        'Wideroe',\n",
    "        'Airways',\n",
    "        'Air',\n",
    "    ],\n",
    "}\n",
    "dataset_names = list(datasets_layer_description.keys())\n",
    "datasets_layer_description, dataset_names"
   ]
  },
  {
   "cell_type": "code",
   "execution_count": 6,
   "metadata": {},
   "outputs": [],
   "source": [
    "def random_relabel(G):\n",
    "    nodes = list(G.nodes)\n",
    "    random.shuffle(nodes)\n",
    "    return nx.relabel_nodes(G, dict(zip(G.nodes, nodes)))"
   ]
  },
  {
   "cell_type": "code",
   "execution_count": 7,
   "metadata": {},
   "outputs": [],
   "source": [
    "def find_component(node, connected_components):\n",
    "    for i, component in enumerate(connected_components):\n",
    "        if node in component:\n",
    "            return i\n",
    "    raise ValueError(f'Component for node {node} not found')"
   ]
  },
  {
   "cell_type": "code",
   "execution_count": 8,
   "metadata": {},
   "outputs": [],
   "source": [
    "def cascade_remove_links(G):\n",
    "\n",
    "    keep_going = True\n",
    "    while keep_going:\n",
    "        keep_going = False\n",
    "\n",
    "        clusters_in_layers = [list(nx.connected_components(g)) for g in G]\n",
    "\n",
    "        for i, g in enumerate(G):\n",
    "            clusters_to_search = clusters_in_layers[:i] + clusters_in_layers[i + 1:]\n",
    "            for edge in g.edges():\n",
    "                if any(find_component(edge[0], clusters) != find_component(edge[1], clusters)\n",
    "                       for clusters in clusters_to_search):\n",
    "                    keep_going = True\n",
    "                    g.remove_edge(*edge)\n",
    "    \n",
    "    return G"
   ]
  },
  {
   "cell_type": "code",
   "execution_count": 9,
   "metadata": {},
   "outputs": [],
   "source": [
    "def articulation_points_multiplex(G):\n",
    "    ap = set(nx.articulation_points(G[0]))\n",
    "    return ap.union(*[nx.articulation_points(g) for g in G[1:]])"
   ]
  },
  {
   "cell_type": "code",
   "execution_count": 10,
   "metadata": {},
   "outputs": [],
   "source": [
    "def max_comp(g):\n",
    "    return max(nx.connected_components(g), key=len)"
   ]
  },
  {
   "cell_type": "code",
   "execution_count": 11,
   "metadata": {},
   "outputs": [],
   "source": [
    "def remove_ap(G):\n",
    "    G = cascade_remove_links(G)\n",
    "\n",
    "    gcc = max_comp(G[0])\n",
    "    gcc_size = len(gcc)\n",
    "\n",
    "    for g in G:\n",
    "        g.remove_nodes_from([n for n in g if n not in gcc])\n",
    "\n",
    "    art_points = articulation_points_multiplex(G)\n",
    "\n",
    "    for g in G:\n",
    "        g.remove_nodes_from(art_points)\n",
    "\n",
    "    return G, art_points, gcc_size"
   ]
  },
  {
   "cell_type": "code",
   "execution_count": 12,
   "metadata": {},
   "outputs": [],
   "source": [
    "def draw_two_layer(G_orig, G, layer_labels, show_labels, pos, ax):\n",
    "    \"\"\"Supports only one or two layers\n",
    "    \"\"\"\n",
    "    onet = pymnet.MultiplexNetwork(couplings='categorical')\n",
    "    for label in layer_labels:\n",
    "        onet.add_layer(label)\n",
    "    L = len(layer_labels)\n",
    "\n",
    "    GRAY = '#84817a'\n",
    "    BLACK = '#485460'\n",
    "\n",
    "    art_points = articulation_points_multiplex(G)\n",
    "    removed = [n for n in G_orig[0] if n not in G[0]]\n",
    "    node_colors = {(node, layer): 'r'\n",
    "                   for layer in layer_labels\n",
    "                   for node in art_points}\n",
    "    node_colors.update({(node, layer): GRAY\n",
    "                        for layer in layer_labels\n",
    "                        for node in removed})\n",
    "    edge_colors = {}\n",
    "    edge_alpha = {}\n",
    "    edge_width = {}\n",
    "\n",
    "    for n in G_orig[0].nodes:\n",
    "        onet.add_node(n)\n",
    "        if L == 2:\n",
    "            edge_width[((n, layer_labels[0]), (n, layer_labels[1]))] = .2\n",
    "\n",
    "    for label, g in zip(layer_labels, G_orig):\n",
    "        for e1, e2 in g.edges:\n",
    "            onet[e1, e2, label] = 1\n",
    "            if e1 in removed or e2 in removed:\n",
    "                # edge_colors[((e1, 'Facebook'), (e2, 'Facebook'))] = GRAY\n",
    "                edge_alpha[((e1, label), (e2, label))] = .3\n",
    "                # edge_width[((e1, 'Facebook'), (e2, 'Facebook'))] = .2\n",
    "            else:\n",
    "                # edge_width[((e1, 'Facebook'), (e2, 'Facebook'))] = .5\n",
    "                edge_colors[((e1, label), (e2, label))] = BLACK\n",
    "\n",
    "    return pymnet.draw(\n",
    "        onet,\n",
    "        elev=20,\n",
    "        layergap=1.35,\n",
    "        camera_dist=10,\n",
    "        figsize=(24, 8),\n",
    "        nodeCoords=pos,\n",
    "        ax=ax,\n",
    "        defaultLayerColor='#e8f8f8',\n",
    "        # defaultLayerColor='#81ecec',\n",
    "        # defaultLayerColor='#dff9fb',\n",
    "        layerLabelDict={} if show_labels else {lbl: '' for lbl in layer_labels},\n",
    "        defaultLayerLabelLoc=(.7, 1),\n",
    "        defaultLayerLabelSize=20,\n",
    "        nodeLabelRule={},\n",
    "        nodeColorDict=node_colors,\n",
    "        edgeColorDict=edge_colors,\n",
    "        # edgeWidthDict=edge_width,\n",
    "        defaultEdgeWidth=.1,\n",
    "        edgeAlphaDict=edge_alpha,\n",
    "    )"
   ]
  },
  {
   "cell_type": "code",
   "execution_count": null,
   "metadata": {},
   "outputs": [],
   "source": [
    "def draw_process(G, pos, layer_labels, figtitle):\n",
    "    plt.close('all')\n",
    "    G_orig = deepcopy(G)\n",
    "    ap_steps = []\n",
    "\n",
    "    while True:\n",
    "        G = cascade_remove_links(G)\n",
    "        gcc = max_comp(G[0])\n",
    "        for g in G:\n",
    "            g.remove_nodes_from([n for n in g if n not in gcc])\n",
    "\n",
    "        ap_steps.append(deepcopy(G))\n",
    "\n",
    "        art_points = articulation_points_multiplex(G)\n",
    "        for g in G:\n",
    "            g.remove_nodes_from(art_points)\n",
    "        if not art_points:\n",
    "            break\n",
    "\n",
    "    # fig, ax = plt.subplots(nrows=1, ncols=len(ap_steps), squeeze=False,\n",
    "    #                        subplot_kw=dict(projection='3d'),\n",
    "    #                        figsize=(24, 6),\n",
    "    #                        layout='constrained')\n",
    "    letters = iter('abcdefghijklmnopqrstuvwxyz')\n",
    "    for i in range(len(ap_steps)):\n",
    "        fig, ax = plt.subplots(subplot_kw=dict(projection='3d'), layout='constrained')\n",
    "        draw_two_layer(G_orig, ap_steps[i], layer_labels, i == 0, pos, ax[0, i])\n",
    "        ax[0, i].text(-.4, .45, 1, fr'$\\mathrm{{({next(letters)})}}$')\n",
    "    fig.draw_without_rendering()\n",
    "    fig.savefig(figtitle)"
   ]
  },
  {
   "cell_type": "code",
   "execution_count": 14,
   "metadata": {},
   "outputs": [],
   "source": [
    "plt.close('all')"
   ]
  },
  {
   "cell_type": "markdown",
   "metadata": {},
   "source": [
    "# Load dataset"
   ]
  },
  {
   "cell_type": "code",
   "execution_count": 15,
   "metadata": {},
   "outputs": [
    {
     "data": {
      "text/plain": [
       "25"
      ]
     },
     "execution_count": 15,
     "metadata": {},
     "output_type": "execute_result"
    }
   ],
   "source": [
    "len(dataset_names)"
   ]
  },
  {
   "cell_type": "code",
   "execution_count": 18,
   "metadata": {},
   "outputs": [],
   "source": [
    "dataset_name = dataset_names[15]\n",
    "random_relabeling = False"
   ]
  },
  {
   "cell_type": "code",
   "execution_count": 19,
   "metadata": {},
   "outputs": [
    {
     "name": "stdout",
     "output_type": "stream",
     "text": [
      "Loading CS-Aarhus_Multiplex_Social\n",
      "Graph with 60 nodes and 193 edges\n",
      "Graph with 32 nodes and 124 edges\n",
      "Graph with 25 nodes and 21 edges\n",
      "Graph with 47 nodes and 88 edges\n",
      "Graph with 60 nodes and 194 edges\n"
     ]
    }
   ],
   "source": [
    "print(f'Loading {dataset_name}')\n",
    "path = os.path.join(data_path, dataset_name)\n",
    "\n",
    "layer_paths = [\n",
    "    os.path.join(path, f'l_{i}.txt')\n",
    "    for i in range(1, len(datasets_layer_description[dataset_name]) + 1)\n",
    "]\n",
    "G_loaded = [nx.read_edgelist(\n",
    "    layer_path,\n",
    "    create_using=nx.Graph,\n",
    "    nodetype=int,\n",
    ") for layer_path in layer_paths]\n",
    "\n",
    "if random_relabeling:\n",
    "    for i, g in enumerate(G_loaded[1:]):\n",
    "        G_loaded[i + 1] = random_relabel(g)\n",
    "print(*G_loaded, sep='\\n')"
   ]
  },
  {
   "cell_type": "markdown",
   "metadata": {},
   "source": [
    "# Preprocessing"
   ]
  },
  {
   "cell_type": "code",
   "execution_count": 21,
   "metadata": {},
   "outputs": [
    {
     "name": "stdout",
     "output_type": "stream",
     "text": [
      "Graph with 60 nodes and 193 edges\n",
      "Graph with 60 nodes and 194 edges\n"
     ]
    }
   ],
   "source": [
    "# G = [deepcopy(g) for g in G_loaded if len(g) > 100]\n",
    "# G = [g for g in G_loaded if len(g.edges) > 8000]\n",
    "G = [deepcopy(G_loaded[0]), deepcopy(G_loaded[-1])]\n",
    "print(*G, sep='\\n')"
   ]
  },
  {
   "cell_type": "code",
   "execution_count": 134,
   "metadata": {},
   "outputs": [],
   "source": [
    "# for g in G:\n",
    "#     g.remove_nodes_from([n for n in g if len(g[n]) < 3])\n",
    "# print(*G, sep='\\n')"
   ]
  },
  {
   "cell_type": "code",
   "execution_count": 22,
   "metadata": {},
   "outputs": [
    {
     "name": "stdout",
     "output_type": "stream",
     "text": [
      "Only 59 real nodes that are present in all layers\n"
     ]
    }
   ],
   "source": [
    "possible_nodes = set(G[0].nodes).union(\n",
    "    *(set(g.nodes) for g in G[1:]),\n",
    ")\n",
    "real_nodes = possible_nodes.intersection(*(g.nodes for g in G))\n",
    "\n",
    "print(f'Only {len(real_nodes)} real nodes that are present in all layers')"
   ]
  },
  {
   "cell_type": "code",
   "execution_count": 23,
   "metadata": {},
   "outputs": [
    {
     "name": "stdout",
     "output_type": "stream",
     "text": [
      "Dropping 2 redundant nodes\n"
     ]
    }
   ],
   "source": [
    "print(f'Dropping {len(possible_nodes) - len(real_nodes)} redundant nodes')\n",
    "for g in G:\n",
    "    g.remove_nodes_from([n for n in g if n not in real_nodes])"
   ]
  },
  {
   "cell_type": "code",
   "execution_count": 24,
   "metadata": {},
   "outputs": [
    {
     "name": "stdout",
     "output_type": "stream",
     "text": [
      "Layer 1:\n",
      "  Size: 59\n",
      "  Edges: 191\n",
      "  Mean degree: 6.47457627118644\n",
      "Layer 2:\n",
      "  Size: 59\n",
      "  Edges: 192\n",
      "  Mean degree: 6.508474576271187\n"
     ]
    },
    {
     "name": "stderr",
     "output_type": "stream",
     "text": [
      "C:\\Users\\kuzne\\AppData\\Local\\Temp\\ipykernel_28404\\2479956608.py:43: UserWarning: Matplotlib is currently using module://matplotlib_inline.backend_inline, which is a non-GUI backend, so cannot show the figure.\n",
      "  fig.show()\n"
     ]
    },
    {
     "data": {
      "image/png": "[encoded data removed]",
      "text/plain": [
       "<Figure size 600x600 with 2 Axes>"
      ]
     },
     "metadata": {},
     "output_type": "display_data"
    }
   ],
   "source": [
    "%matplotlib inline\n",
    "fig, ax = plt.subplots(nrows=len(G), ncols=1, figsize=(6, 3 * len(G)))\n",
    "for i, g in enumerate(G):\n",
    "\n",
    "    print(f'Layer {i + 1}:')\n",
    "    print(f'  Size: {len(g)}')\n",
    "    print(f'  Edges: {len(g.edges)}')\n",
    "\n",
    "    degree_sequence = sorted((d for _, d in g.degree), reverse=True)\n",
    "    print(f'  Mean degree: {np.mean(degree_sequence)}')\n",
    "\n",
    "    # sorted_nodes = sorted(g.nodes)\n",
    "    # mn, mx = sorted_nodes[0], sorted_nodes[-1]\n",
    "    # if all(n1 == n2 for n1, n2 in zip(sorted_nodes, range(mn, mx + 1))):\n",
    "    # # if sorted_nodes == list(range(mn, mx + 1)):\n",
    "    #     print(f'  Nodes are labeled through {mn}:{mx}')\n",
    "    # else:\n",
    "    #     gaps = [n for n in range(mn, mx + 1) if n not in sorted_nodes]\n",
    "    #     print(f'  Nodes are labeled through {mn}:{mx} with {len(gaps)} gaps {gaps}')\n",
    "    \n",
    "    # ax[i, 0].set_title('Degree distribution')\n",
    "    # ax[i, 0].bar(*np.unique(degree_sequence, return_counts=True), width=.8)\n",
    "\n",
    "    # ax[i, 1].set_title('Degree distribution (log)')\n",
    "    # ax[i, 1].hist(degree_sequence, bins=np.logspace(np.log10(1), np.log10(len(g)), num=len(g)), rwidth=.8)\n",
    "    # # ax[i, 1].hist(degree_sequence, bins=len(g), rwidth=.8)\n",
    "    # ax[i, 1].set_xscale('log')\n",
    "    # ax[i, 1].set_yscale('log')\n",
    "    # # ax2.plot(np.exp(np.arange(1, np.log10(len(G)))), 1000 - 2.5 * np.exp(np.arange(1, np.log10(len(G)))))\n",
    "\n",
    "    if len(g) < 1000:\n",
    "        ax[i].set_title(f'Layer {i + 1}')\n",
    "        # gcc = g.subgraph(sorted(nx.connected_components(g), key=len, reverse=True)[0])\n",
    "        # pos = nx.kamada_kawai_layout(g)\n",
    "        pos = nx.spring_layout(g)\n",
    "        nx.draw_networkx_nodes(g, pos, ax=ax[i], node_size=20)\n",
    "        ap = nx.articulation_points(g)\n",
    "        nx.draw_networkx_nodes(g.subgraph(ap), pos, ax=ax[i], node_size=20, node_color='r')\n",
    "        nx.draw_networkx_edges(g, pos, ax=ax[i], alpha=.4, arrows=True)\n",
    "        ax[i].set_axis_off()\n",
    "\n",
    "fig.tight_layout()\n",
    "fig.show()"
   ]
  },
  {
   "cell_type": "markdown",
   "metadata": {},
   "source": [
    "# Experiment"
   ]
  },
  {
   "cell_type": "code",
   "execution_count": 23,
   "metadata": {},
   "outputs": [],
   "source": [
    "# G = [nx.erdos_renyi_graph(5000, 3 / 4999),\n",
    "#      nx.erdos_renyi_graph(5000, 3 / 4999)]"
   ]
  },
  {
   "cell_type": "code",
   "execution_count": null,
   "metadata": {},
   "outputs": [],
   "source": [
    "for i, g in enumerate(G):\n",
    "    g = nx.relabel_nodes(g, dict(zip(G[0].nodes, range(len(G[0])))))\n",
    "    nx.write_edgelist(g, f'cpp_data/l_{i + 1}.txt', data=False)"
   ]
  },
  {
   "cell_type": "code",
   "execution_count": 138,
   "metadata": {},
   "outputs": [
    {
     "data": {
      "text/plain": [
       "2.737754075101877"
      ]
     },
     "execution_count": 138,
     "metadata": {},
     "output_type": "execute_result"
    },
    {
     "data": {
      "image/png": "[encoded data removed]",
      "text/plain": [
       "<Figure size 640x480 with 1 Axes>"
      ]
     },
     "metadata": {},
     "output_type": "display_data"
    }
   ],
   "source": [
    "degree = [d for _, d in G[0].degree]\n",
    "cutoff = 2\n",
    "h, x = np.histogram(degree, bins=100) \n",
    "x_ = (x[:-1]+x[1:]) / 2\n",
    "\n",
    "z = np.polyfit(np.log(x_[np.nonzero(h)][cutoff:]), np.log(h[np.nonzero(h)][cutoff:]), 1) \n",
    "f = np.poly1d(z)\n",
    "\n",
    "plt.plot(x_, h, 'o--')\n",
    "plt.plot(x_, np.exp(f(np.log(x_))), color='red')\n",
    "plt.xscale('log')\n",
    "plt.yscale('log')\n",
    "plt.xlabel('k', fontsize=14)\n",
    "plt.ylabel(r'$\\rho(k)$', fontsize=14)\n",
    "\n",
    "lambda1 = -z[0]\n",
    "lambda1"
   ]
  },
  {
   "cell_type": "code",
   "execution_count": 139,
   "metadata": {},
   "outputs": [
    {
     "data": {
      "text/plain": [
       "4.6353991910416354"
      ]
     },
     "execution_count": 139,
     "metadata": {},
     "output_type": "execute_result"
    },
    {
     "data": {
      "image/png": "[encoded data removed]",
      "text/plain": [
       "<Figure size 640x480 with 1 Axes>"
      ]
     },
     "metadata": {},
     "output_type": "display_data"
    }
   ],
   "source": [
    "degree = [d for _, d in G[1].degree]\n",
    "cutoff = 6\n",
    "h, x = np.histogram(degree, bins=100) \n",
    "x_ = (x[:-1]+x[1:]) / 2\n",
    "\n",
    "z = np.polyfit(np.log(x_[np.nonzero(h)][cutoff:]), np.log(h[np.nonzero(h)][cutoff:]), 1) \n",
    "f = np.poly1d(z)\n",
    "\n",
    "plt.plot(x_, h, 'o--')\n",
    "plt.plot(x_, np.exp(f(np.log(x_))), color='red')\n",
    "plt.xscale('log')\n",
    "plt.yscale('log')\n",
    "plt.xlabel('k', fontsize=14)\n",
    "plt.ylabel(r'$\\rho(k)$', fontsize=14)\n",
    "\n",
    "lambda2 = -z[0]\n",
    "lambda2"
   ]
  },
  {
   "cell_type": "code",
   "execution_count": 140,
   "metadata": {},
   "outputs": [
    {
     "data": {
      "text/plain": [
       "(4.302752293577981, 3.623853211009174)"
      ]
     },
     "execution_count": 140,
     "metadata": {},
     "output_type": "execute_result"
    }
   ],
   "source": [
    "np.mean([d for _, d in G[0].degree]), np.mean([d for _, d in G[1].degree])"
   ]
  },
  {
   "cell_type": "code",
   "execution_count": 141,
   "metadata": {},
   "outputs": [
    {
     "name": "stdout",
     "output_type": "stream",
     "text": [
      "adding (41, 49) to layer 2\n",
      "adding (87, 183) to layer 2\n",
      "adding (60, 101) to layer 2\n",
      "adding (135, 140) to layer 2\n",
      "adding (174, 228) to layer 2\n",
      "adding (108, 217) to layer 2\n",
      "adding (122, 21) to layer 2\n",
      "adding (231, 239) to layer 2\n",
      "adding (190, 13) to layer 2\n",
      "adding (119, 141) to layer 2\n",
      "adding (129, 28) to layer 2\n",
      "adding (144, 114) to layer 2\n",
      "adding (53, 82) to layer 2\n",
      "adding (202, 110) to layer 2\n",
      "adding (222, 218) to layer 2\n",
      "adding (10, 37) to layer 2\n",
      "adding (129, 143) to layer 2\n",
      "adding (186, 222) to layer 2\n",
      "adding (86, 36) to layer 2\n",
      "adding (16, 49) to layer 2\n",
      "adding (227, 133) to layer 2\n",
      "adding (53, 78) to layer 2\n",
      "adding (4, 57) to layer 2\n",
      "adding (217, 12) to layer 2\n",
      "adding (192, 207) to layer 2\n",
      "adding (64, 103) to layer 2\n",
      "adding (20, 174) to layer 2\n",
      "adding (52, 4) to layer 2\n",
      "adding (227, 15) to layer 2\n",
      "adding (106, 128) to layer 2\n",
      "adding (144, 128) to layer 2\n",
      "adding (128, 53) to layer 2\n",
      "adding (224, 169) to layer 2\n",
      "adding (62, 136) to layer 2\n",
      "adding (74, 40) to layer 2\n",
      "adding (74, 171) to layer 2\n",
      "adding (135, 209) to layer 2\n",
      "adding (177, 233) to layer 2\n",
      "adding (139, 106) to layer 2\n",
      "adding (155, 173) to layer 2\n",
      "adding (199, 80) to layer 2\n",
      "adding (240, 58) to layer 2\n",
      "adding (219, 199) to layer 2\n",
      "adding (194, 16) to layer 2\n",
      "adding (21, 95) to layer 2\n",
      "adding (18, 22) to layer 2\n",
      "adding (59, 48) to layer 2\n",
      "adding (30, 2) to layer 2\n",
      "adding (157, 26) to layer 2\n",
      "adding (235, 239) to layer 2\n",
      "adding (58, 231) to layer 2\n",
      "adding (1, 92) to layer 2\n",
      "adding (141, 114) to layer 2\n",
      "adding (95, 29) to layer 2\n",
      "adding (235, 65) to layer 2\n",
      "adding (138, 199) to layer 2\n",
      "adding (216, 92) to layer 2\n",
      "adding (33, 140) to layer 2\n",
      "adding (62, 111) to layer 2\n",
      "adding (223, 209) to layer 2\n",
      "adding (210, 130) to layer 2\n",
      "adding (179, 22) to layer 2\n",
      "adding (37, 102) to layer 2\n",
      "adding (184, 213) to layer 2\n",
      "adding (61, 238) to layer 2\n",
      "adding (198, 109) to layer 2\n",
      "adding (29, 150) to layer 2\n",
      "adding (114, 87) to layer 2\n",
      "adding (214, 187) to layer 2\n",
      "adding (141, 172) to layer 2\n",
      "adding (29, 35) to layer 2\n",
      "adding (131, 130) to layer 2\n",
      "adding (240, 143) to layer 2\n",
      "adding (147, 206) to layer 2\n",
      "adding (56, 17) to layer 2\n"
     ]
    }
   ],
   "source": [
    "while np.mean([d for _, d in G[0].degree]) < 4.3:\n",
    "    i = np.random.choice(G[0])\n",
    "    j = np.random.choice(G[0])\n",
    "    if (i, j) not in G[0]:\n",
    "        print(f'adding ({i}, {j}) to layer 1')\n",
    "        G[0].add_edge(i, j)\n",
    "while np.mean([d for _, d in G[1].degree]) < 4.3:\n",
    "    i = np.random.choice(G[1])\n",
    "    j = np.random.choice(G[1])\n",
    "    if (i, j) not in G[1]:\n",
    "        print(f'adding ({i}, {j}) to layer 2')\n",
    "        G[1].add_edge(i, j)"
   ]
  },
  {
   "cell_type": "code",
   "execution_count": 143,
   "metadata": {},
   "outputs": [
    {
     "data": {
      "text/plain": [
       "(4.302752293577981, 4.302752293577981)"
      ]
     },
     "execution_count": 143,
     "metadata": {},
     "output_type": "execute_result"
    }
   ],
   "source": [
    "np.mean([d for _, d in G[0].degree]), np.mean([d for _, d in G[1].degree])"
   ]
  },
  {
   "cell_type": "code",
   "execution_count": 151,
   "metadata": {},
   "outputs": [
    {
     "data": {
      "text/plain": [
       "([<networkx.classes.graph.Graph at 0x1f99442d810>,\n",
       "  <networkx.classes.graph.Graph at 0x1f99442e3e0>],\n",
       " set(),\n",
       " 0,\n",
       " 1)"
      ]
     },
     "execution_count": 151,
     "metadata": {},
     "output_type": "execute_result"
    }
   ],
   "source": [
    "G, ap, gcc_size = remove_ap(G)\n",
    "G, ap, len(ap), gcc_size"
   ]
  },
  {
   "cell_type": "markdown",
   "metadata": {},
   "source": [
    "# Plots"
   ]
  },
  {
   "cell_type": "code",
   "execution_count": null,
   "metadata": {},
   "outputs": [],
   "source": [
    "# G = [\n",
    "#     nx.Graph([\n",
    "#         (0, 1), (0, 2), (1, 3), (2, 3), (3, 4), (3, 5),\n",
    "#         (4, 7), (4, 6), (5, 6), (5, 8), (6, 7), (6, 8), (7, 9), (8, 9),\n",
    "#         (0, 3), (3, 6), (6, 9),\n",
    "#     ]),\n",
    "#     nx.Graph([\n",
    "#         (0, 1), (0, 2), (1, 3), (2, 3), (3, 4), (3, 5), (1, 4), (2, 5),\n",
    "#         (4, 6), (5, 6), (6, 7), (6, 8), (7, 9), (8, 9),\n",
    "#         (0, 3), (3, 6), (6, 9),\n",
    "#     ]),\n",
    "# ]"
   ]
  },
  {
   "cell_type": "code",
   "execution_count": 59,
   "metadata": {},
   "outputs": [],
   "source": [
    "# pos = nx.kamada_kawai_layout(G[0])\n",
    "pos = nx.kamada_kawai_layout(G[0])\n",
    "# pos = nx.circular_layout(G[0])\n",
    "# pos = nx.planar_layout(G[0])\n",
    "# pos = nx.shell_layout(G[0])\n",
    "# pos = nx.spring_layout(G[0])\n",
    "# pos = nx.spring_layout(G[1])"
   ]
  },
  {
   "cell_type": "code",
   "execution_count": null,
   "metadata": {},
   "outputs": [],
   "source": [
    "draw_process(deepcopy(G), pos, ['Lunch', 'Work'], 'figs/real_multiplex_example.pdf')\n",
    "# draw_process(deepcopy(G), pos, [\n",
    "#     'Physics: Data Analysis, Statistics and Probability',\n",
    "#     'CS: Social and Information Networks',\n",
    "# ], 'figs/real_multiplex_example.pdf')\n",
    "# draw_process(G, pos, ['IPv4', 'IPv6'], 'figs/internet')"
   ]
  },
  {
   "cell_type": "code",
   "execution_count": 60,
   "metadata": {},
   "outputs": [
    {
     "data": {
      "image/png": "[encoded data removed]",
      "text/plain": [
       "<Figure size 2400x600 with 2 Axes>"
      ]
     },
     "metadata": {},
     "output_type": "display_data"
    }
   ],
   "source": [
    "draw_process(\n",
    "    G, pos,\n",
    "    [\n",
    "        '1',\n",
    "        '2',\n",
    "    ],\n",
    "    # 'figs/toy_example/toy_example',\n",
    "    # 'figs/toy_example/toy_example_1',\n",
    "    'figs/toy_example/tmp',\n",
    ")"
   ]
  }
 ],
 "metadata": {
  "kernelspec": {
   "display_name": "graphs",
   "language": "python",
   "name": "python3"
  },
  "language_info": {
   "codemirror_mode": {
    "name": "ipython",
    "version": 3
   },
   "file_extension": ".py",
   "mimetype": "text/x-python",
   "name": "python",
   "nbconvert_exporter": "python",
   "pygments_lexer": "ipython3",
   "version": "3.10.4"
  },
  "orig_nbformat": 4
 },
 "nbformat": 4,
 "nbformat_minor": 2
}
