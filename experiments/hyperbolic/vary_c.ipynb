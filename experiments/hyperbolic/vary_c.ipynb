{
 "cells": [
  {
   "cell_type": "code",
   "execution_count": 2,
   "metadata": {},
   "outputs": [],
   "source": [
    "import matplotlib.pyplot as plt\n",
    "from Main import plot_monoplex, plot_monoplex_with_ap_removal"
   ]
  },
  {
   "cell_type": "code",
   "execution_count": 3,
   "metadata": {},
   "outputs": [],
   "source": [
    "N = 5000\n",
    "T = .4"
   ]
  },
  {
   "cell_type": "code",
   "execution_count": 4,
   "metadata": {},
   "outputs": [],
   "source": [
    "gamma_vals = [2.5, 3., 3.5, 4., 6.]\n",
    "gamma_vals = [3.]\n",
    "kbar_vals = [.1, 2.5, 5., 7.5, 10.]"
   ]
  },
  {
   "cell_type": "code",
   "execution_count": 5,
   "metadata": {},
   "outputs": [
    {
     "name": "stdout",
     "output_type": "stream",
     "text": [
      "kmin:  0.05\n",
      "C:  0.029720516134223548\n",
      "R:  24.066221768275167\n"
     ]
    },
    {
     "name": "stderr",
     "output_type": "stream",
     "text": [
      "findfont: Generic family 'sans-serif' not found because none of the following families were found: Helvetica\n",
      "findfont: Generic family 'sans-serif' not found because none of the following families were found: Helvetica\n"
     ]
    },
    {
     "name": "stdout",
     "output_type": "stream",
     "text": [
      "number of links:\t 254\n"
     ]
    },
    {
     "name": "stderr",
     "output_type": "stream",
     "text": [
      "findfont: Generic family 'sans-serif' not found because none of the following families were found: Helvetica\n",
      "findfont: Generic family 'sans-serif' not found because none of the following families were found: Helvetica\n",
      "findfont: Generic family 'sans-serif' not found because none of the following families were found: Helvetica\n",
      "findfont: Generic family 'sans-serif' not found because none of the following families were found: Helvetica\n",
      "findfont: Generic family 'sans-serif' not found because none of the following families were found: Helvetica\n",
      "findfont: Generic family 'sans-serif' not found because none of the following families were found: Helvetica\n",
      "findfont: Generic family 'sans-serif' not found because none of the following families were found: Helvetica\n",
      "findfont: Generic family 'sans-serif' not found because none of the following families were found: Helvetica\n",
      "findfont: Generic family 'sans-serif' not found because none of the following families were found: Helvetica\n"
     ]
    },
    {
     "name": "stdout",
     "output_type": "stream",
     "text": [
      "kmin:  1.25\n",
      "C:  0.7430129033555886\n",
      "R:  17.628470118538765\n",
      "number of links:\t 6155\n"
     ]
    },
    {
     "ename": "KeyboardInterrupt",
     "evalue": "",
     "output_type": "error",
     "traceback": [
      "\u001b[1;31m---------------------------------------------------------------------------\u001b[0m",
      "\u001b[1;31mKeyboardInterrupt\u001b[0m                         Traceback (most recent call last)",
      "Cell \u001b[1;32mIn [5], line 15\u001b[0m\n\u001b[0;32m     13\u001b[0m \u001b[38;5;28;01melse\u001b[39;00m:\n\u001b[0;32m     14\u001b[0m     ax \u001b[38;5;241m=\u001b[39m axes[i, j]\n\u001b[1;32m---> 15\u001b[0m plot_monoplex(N, gamma, kbar, T, ax\u001b[38;5;241m=\u001b[39max)\n\u001b[0;32m     17\u001b[0m \u001b[38;5;28;01mif\u001b[39;00m j \u001b[38;5;241m==\u001b[39m \u001b[38;5;241m0\u001b[39m:\n\u001b[0;32m     18\u001b[0m     ax\u001b[38;5;241m.\u001b[39mset_ylabel(\u001b[38;5;124mfr\u001b[39m\u001b[38;5;124m'\u001b[39m\u001b[38;5;124m$\u001b[39m\u001b[38;5;124m\\\u001b[39m\u001b[38;5;124mlambda = \u001b[39m\u001b[38;5;132;01m{\u001b[39;00mgamma\u001b[38;5;132;01m}\u001b[39;00m\u001b[38;5;124m$\u001b[39m\u001b[38;5;124m'\u001b[39m)\n",
      "File \u001b[1;32mc:\\Users\\kuzne\\Documents\\ACTIVE_PROJECTS\\research\\experiments\\hyperbolic\\Main.py:35\u001b[0m, in \u001b[0;36mplot_monoplex\u001b[1;34m(N, gamma, kbar, T, ax, seed)\u001b[0m\n\u001b[0;32m     33\u001b[0m subprocess\u001b[38;5;241m.\u001b[39mcall([\u001b[38;5;124m\"\u001b[39m\u001b[38;5;124mhyperb.exe\u001b[39m\u001b[38;5;124m\"\u001b[39m, \u001b[38;5;124m\"\u001b[39m\u001b[38;5;124mcoords.txt\u001b[39m\u001b[38;5;124m\"\u001b[39m, \u001b[38;5;28mstr\u001b[39m(seed), \u001b[38;5;28mstr\u001b[39m(N), \u001b[38;5;28mstr\u001b[39m(kbar), \u001b[38;5;28mstr\u001b[39m(T)])\n\u001b[0;32m     34\u001b[0m links \u001b[38;5;241m=\u001b[39m hyp\u001b[38;5;241m.\u001b[39mReadLinks(\u001b[38;5;124m\"\u001b[39m\u001b[38;5;124mlinks.coords.txt\u001b[39m\u001b[38;5;124m\"\u001b[39m)\n\u001b[1;32m---> 35\u001b[0m \u001b[38;5;28;01mreturn\u001b[39;00m \u001b[43mhyp\u001b[49m\u001b[38;5;241;43m.\u001b[39;49m\u001b[43mPlotNetwork\u001b[49m\u001b[43m(\u001b[49m\u001b[43mlinks\u001b[49m\u001b[43m[\u001b[49m\u001b[43m:\u001b[49m\u001b[43m]\u001b[49m\u001b[43m,\u001b[49m\u001b[43m \u001b[49m\u001b[43mr\u001b[49m\u001b[43m[\u001b[49m\u001b[43m:\u001b[49m\u001b[43m]\u001b[49m\u001b[43m,\u001b[49m\u001b[43m \u001b[49m\u001b[43mtheta\u001b[49m\u001b[43m[\u001b[49m\u001b[43m:\u001b[49m\u001b[43m]\u001b[49m\u001b[43m,\u001b[49m\u001b[43m \u001b[49m\u001b[38;5;124;43m\"\u001b[39;49m\u001b[38;5;124;43mmonoplex_plot\u001b[39;49m\u001b[38;5;124;43m\"\u001b[39;49m\u001b[43m,\u001b[49m\u001b[43m \u001b[49m\u001b[43max\u001b[49m\u001b[38;5;241;43m=\u001b[39;49m\u001b[43max\u001b[49m\u001b[43m)\u001b[49m\n",
      "File \u001b[1;32mc:\\Users\\kuzne\\Documents\\ACTIVE_PROJECTS\\research\\experiments\\hyperbolic\\Hyperbolic.py:158\u001b[0m, in \u001b[0;36mPlotNetwork\u001b[1;34m(links, r, theta, name, ax, savefig)\u001b[0m\n\u001b[0;32m    156\u001b[0m     i \u001b[38;5;241m=\u001b[39m x[\u001b[38;5;241m0\u001b[39m]\n\u001b[0;32m    157\u001b[0m     j \u001b[38;5;241m=\u001b[39m x[\u001b[38;5;241m1\u001b[39m]\n\u001b[1;32m--> 158\u001b[0m     \u001b[43max\u001b[49m\u001b[38;5;241;43m.\u001b[39;49m\u001b[43mplot\u001b[49m\u001b[43m(\u001b[49m\u001b[43m[\u001b[49m\u001b[43mtheta\u001b[49m\u001b[43m[\u001b[49m\u001b[43mi\u001b[49m\u001b[43m]\u001b[49m\u001b[43m,\u001b[49m\u001b[43mtheta\u001b[49m\u001b[43m[\u001b[49m\u001b[43mj\u001b[49m\u001b[43m]\u001b[49m\u001b[43m]\u001b[49m\u001b[43m,\u001b[49m\u001b[43m \u001b[49m\u001b[43m[\u001b[49m\u001b[43mr\u001b[49m\u001b[43m[\u001b[49m\u001b[43mi\u001b[49m\u001b[43m]\u001b[49m\u001b[43m,\u001b[49m\u001b[43mr\u001b[49m\u001b[43m[\u001b[49m\u001b[43mj\u001b[49m\u001b[43m]\u001b[49m\u001b[43m]\u001b[49m\u001b[43m,\u001b[49m\u001b[38;5;124;43m'\u001b[39;49m\u001b[38;5;124;43m-\u001b[39;49m\u001b[38;5;124;43m'\u001b[39;49m\u001b[43m,\u001b[49m\u001b[43mcolor\u001b[49m\u001b[43m \u001b[49m\u001b[38;5;241;43m=\u001b[39;49m\u001b[43m \u001b[49m\u001b[38;5;124;43m'\u001b[39;49m\u001b[38;5;124;43mk\u001b[39;49m\u001b[38;5;124;43m'\u001b[39;49m\u001b[43m,\u001b[49m\u001b[43m \u001b[49m\u001b[43mlinewidth\u001b[49m\u001b[43m \u001b[49m\u001b[38;5;241;43m=\u001b[39;49m\u001b[43m \u001b[49m\u001b[38;5;241;43m0.01\u001b[39;49m\u001b[43m,\u001b[49m\u001b[43m \u001b[49m\u001b[43malpha\u001b[49m\u001b[38;5;241;43m=\u001b[39;49m\u001b[38;5;241;43m0.2\u001b[39;49m\u001b[43m)\u001b[49m\n\u001b[0;32m    160\u001b[0m ax\u001b[38;5;241m.\u001b[39mplot(theta, r,\u001b[38;5;124m'\u001b[39m\u001b[38;5;124mo\u001b[39m\u001b[38;5;124m'\u001b[39m, color \u001b[38;5;241m=\u001b[39m \u001b[38;5;124m'\u001b[39m\u001b[38;5;124morange\u001b[39m\u001b[38;5;124m'\u001b[39m, markeredgecolor\u001b[38;5;241m=\u001b[39m\u001b[38;5;124m'\u001b[39m\u001b[38;5;124morange\u001b[39m\u001b[38;5;124m'\u001b[39m, markersize \u001b[38;5;241m=\u001b[39m \u001b[38;5;241m1.5\u001b[39m, alpha\u001b[38;5;241m=\u001b[39m\u001b[38;5;241m0.83\u001b[39m)\n\u001b[0;32m    164\u001b[0m ax\u001b[38;5;241m.\u001b[39mgrid(\u001b[38;5;28;01mFalse\u001b[39;00m)\n",
      "File \u001b[1;32mc:\\Users\\kuzne\\anaconda3\\envs\\graphs\\lib\\site-packages\\matplotlib\\axes\\_axes.py:1664\u001b[0m, in \u001b[0;36mAxes.plot\u001b[1;34m(self, scalex, scaley, data, *args, **kwargs)\u001b[0m\n\u001b[0;32m   1662\u001b[0m lines \u001b[38;5;241m=\u001b[39m [\u001b[38;5;241m*\u001b[39m\u001b[38;5;28mself\u001b[39m\u001b[38;5;241m.\u001b[39m_get_lines(\u001b[38;5;241m*\u001b[39margs, data\u001b[38;5;241m=\u001b[39mdata, \u001b[38;5;241m*\u001b[39m\u001b[38;5;241m*\u001b[39mkwargs)]\n\u001b[0;32m   1663\u001b[0m \u001b[38;5;28;01mfor\u001b[39;00m line \u001b[38;5;129;01min\u001b[39;00m lines:\n\u001b[1;32m-> 1664\u001b[0m     \u001b[38;5;28;43mself\u001b[39;49m\u001b[38;5;241;43m.\u001b[39;49m\u001b[43madd_line\u001b[49m\u001b[43m(\u001b[49m\u001b[43mline\u001b[49m\u001b[43m)\u001b[49m\n\u001b[0;32m   1665\u001b[0m \u001b[38;5;28;01mif\u001b[39;00m scalex:\n\u001b[0;32m   1666\u001b[0m     \u001b[38;5;28mself\u001b[39m\u001b[38;5;241m.\u001b[39m_request_autoscale_view(\u001b[38;5;124m\"\u001b[39m\u001b[38;5;124mx\u001b[39m\u001b[38;5;124m\"\u001b[39m)\n",
      "File \u001b[1;32mc:\\Users\\kuzne\\anaconda3\\envs\\graphs\\lib\\site-packages\\matplotlib\\axes\\_base.py:2339\u001b[0m, in \u001b[0;36m_AxesBase.add_line\u001b[1;34m(self, line)\u001b[0m\n\u001b[0;32m   2336\u001b[0m \u001b[38;5;28;01mif\u001b[39;00m line\u001b[38;5;241m.\u001b[39mget_clip_path() \u001b[38;5;129;01mis\u001b[39;00m \u001b[38;5;28;01mNone\u001b[39;00m:\n\u001b[0;32m   2337\u001b[0m     line\u001b[38;5;241m.\u001b[39mset_clip_path(\u001b[38;5;28mself\u001b[39m\u001b[38;5;241m.\u001b[39mpatch)\n\u001b[1;32m-> 2339\u001b[0m \u001b[38;5;28;43mself\u001b[39;49m\u001b[38;5;241;43m.\u001b[39;49m\u001b[43m_update_line_limits\u001b[49m\u001b[43m(\u001b[49m\u001b[43mline\u001b[49m\u001b[43m)\u001b[49m\n\u001b[0;32m   2340\u001b[0m \u001b[38;5;28;01mif\u001b[39;00m \u001b[38;5;129;01mnot\u001b[39;00m line\u001b[38;5;241m.\u001b[39mget_label():\n\u001b[0;32m   2341\u001b[0m     line\u001b[38;5;241m.\u001b[39mset_label(\u001b[38;5;124mf\u001b[39m\u001b[38;5;124m'\u001b[39m\u001b[38;5;124m_child\u001b[39m\u001b[38;5;132;01m{\u001b[39;00m\u001b[38;5;28mlen\u001b[39m(\u001b[38;5;28mself\u001b[39m\u001b[38;5;241m.\u001b[39m_children)\u001b[38;5;132;01m}\u001b[39;00m\u001b[38;5;124m'\u001b[39m)\n",
      "File \u001b[1;32mc:\\Users\\kuzne\\anaconda3\\envs\\graphs\\lib\\site-packages\\matplotlib\\axes\\_base.py:2362\u001b[0m, in \u001b[0;36m_AxesBase._update_line_limits\u001b[1;34m(self, line)\u001b[0m\n\u001b[0;32m   2358\u001b[0m \u001b[38;5;28;01mdef\u001b[39;00m \u001b[38;5;21m_update_line_limits\u001b[39m(\u001b[38;5;28mself\u001b[39m, line):\n\u001b[0;32m   2359\u001b[0m     \u001b[38;5;124;03m\"\"\"\u001b[39;00m\n\u001b[0;32m   2360\u001b[0m \u001b[38;5;124;03m    Figures out the data limit of the given line, updating self.dataLim.\u001b[39;00m\n\u001b[0;32m   2361\u001b[0m \u001b[38;5;124;03m    \"\"\"\u001b[39;00m\n\u001b[1;32m-> 2362\u001b[0m     path \u001b[38;5;241m=\u001b[39m \u001b[43mline\u001b[49m\u001b[38;5;241;43m.\u001b[39;49m\u001b[43mget_path\u001b[49m\u001b[43m(\u001b[49m\u001b[43m)\u001b[49m\n\u001b[0;32m   2363\u001b[0m     \u001b[38;5;28;01mif\u001b[39;00m path\u001b[38;5;241m.\u001b[39mvertices\u001b[38;5;241m.\u001b[39msize \u001b[38;5;241m==\u001b[39m \u001b[38;5;241m0\u001b[39m:\n\u001b[0;32m   2364\u001b[0m         \u001b[38;5;28;01mreturn\u001b[39;00m\n",
      "File \u001b[1;32mc:\\Users\\kuzne\\anaconda3\\envs\\graphs\\lib\\site-packages\\matplotlib\\lines.py:1031\u001b[0m, in \u001b[0;36mLine2D.get_path\u001b[1;34m(self)\u001b[0m\n\u001b[0;32m   1029\u001b[0m \u001b[38;5;124;03m\"\"\"Return the `~matplotlib.path.Path` associated with this line.\"\"\"\u001b[39;00m\n\u001b[0;32m   1030\u001b[0m \u001b[38;5;28;01mif\u001b[39;00m \u001b[38;5;28mself\u001b[39m\u001b[38;5;241m.\u001b[39m_invalidy \u001b[38;5;129;01mor\u001b[39;00m \u001b[38;5;28mself\u001b[39m\u001b[38;5;241m.\u001b[39m_invalidx:\n\u001b[1;32m-> 1031\u001b[0m     \u001b[38;5;28;43mself\u001b[39;49m\u001b[38;5;241;43m.\u001b[39;49m\u001b[43mrecache\u001b[49m\u001b[43m(\u001b[49m\u001b[43m)\u001b[49m\n\u001b[0;32m   1032\u001b[0m \u001b[38;5;28;01mreturn\u001b[39;00m \u001b[38;5;28mself\u001b[39m\u001b[38;5;241m.\u001b[39m_path\n",
      "File \u001b[1;32mc:\\Users\\kuzne\\anaconda3\\envs\\graphs\\lib\\site-packages\\matplotlib\\lines.py:668\u001b[0m, in \u001b[0;36mLine2D.recache\u001b[1;34m(self, always)\u001b[0m\n\u001b[0;32m    665\u001b[0m \u001b[38;5;28;01melse\u001b[39;00m:\n\u001b[0;32m    666\u001b[0m     y \u001b[38;5;241m=\u001b[39m \u001b[38;5;28mself\u001b[39m\u001b[38;5;241m.\u001b[39m_y\n\u001b[1;32m--> 668\u001b[0m \u001b[38;5;28mself\u001b[39m\u001b[38;5;241m.\u001b[39m_xy \u001b[38;5;241m=\u001b[39m \u001b[43mnp\u001b[49m\u001b[38;5;241;43m.\u001b[39;49m\u001b[43mcolumn_stack\u001b[49m\u001b[43m(\u001b[49m\u001b[43mnp\u001b[49m\u001b[38;5;241;43m.\u001b[39;49m\u001b[43mbroadcast_arrays\u001b[49m\u001b[43m(\u001b[49m\u001b[43mx\u001b[49m\u001b[43m,\u001b[49m\u001b[43m \u001b[49m\u001b[43my\u001b[49m\u001b[43m)\u001b[49m\u001b[43m)\u001b[49m\u001b[38;5;241;43m.\u001b[39;49m\u001b[43mastype\u001b[49m\u001b[43m(\u001b[49m\u001b[38;5;28;43mfloat\u001b[39;49m\u001b[43m)\u001b[49m\n\u001b[0;32m    669\u001b[0m \u001b[38;5;28mself\u001b[39m\u001b[38;5;241m.\u001b[39m_x, \u001b[38;5;28mself\u001b[39m\u001b[38;5;241m.\u001b[39m_y \u001b[38;5;241m=\u001b[39m \u001b[38;5;28mself\u001b[39m\u001b[38;5;241m.\u001b[39m_xy\u001b[38;5;241m.\u001b[39mT  \u001b[38;5;66;03m# views\u001b[39;00m\n\u001b[0;32m    671\u001b[0m \u001b[38;5;28mself\u001b[39m\u001b[38;5;241m.\u001b[39m_subslice \u001b[38;5;241m=\u001b[39m \u001b[38;5;28;01mFalse\u001b[39;00m\n",
      "\u001b[1;31mKeyboardInterrupt\u001b[0m: "
     ]
    }
   ],
   "source": [
    "fig, axes = plt.subplots(\n",
    "    nrows=len(gamma_vals),\n",
    "    ncols=len(kbar_vals),\n",
    "    figsize=(12, 12),\n",
    "    subplot_kw={'projection': 'polar'},\n",
    ")\n",
    "for i, gamma in enumerate(gamma_vals):\n",
    "    for j, kbar in enumerate(kbar_vals):\n",
    "        if len(gamma_vals) == 1:\n",
    "            ax = axes[j]\n",
    "        elif len(kbar_vals) == 1:\n",
    "            ax = axes[i]\n",
    "        else:\n",
    "            ax = axes[i, j]\n",
    "        plot_monoplex(N, gamma, kbar, T, ax=ax)\n",
    "\n",
    "        if j == 0:\n",
    "            ax.set_ylabel(fr'$\\lambda = {gamma}$')\n",
    "        if i == len(gamma_vals) - 1:\n",
    "            ax.set_xlabel(fr'$c = {kbar}$')"
   ]
  },
  {
   "cell_type": "code",
   "execution_count": 17,
   "metadata": {},
   "outputs": [],
   "source": [
    "fig.savefig('vary_c_plot.pdf', bbox_inches='tight')"
   ]
  },
  {
   "cell_type": "code",
   "execution_count": 4,
   "metadata": {},
   "outputs": [
    {
     "name": "stdout",
     "output_type": "stream",
     "text": [
      "kmin:  0.05\n",
      "C:  0.029720516134223548\n",
      "R:  24.066221768275167\n"
     ]
    },
    {
     "name": "stderr",
     "output_type": "stream",
     "text": [
      "findfont: Generic family 'sans-serif' not found because none of the following families were found: Helvetica\n",
      "findfont: Generic family 'sans-serif' not found because none of the following families were found: Helvetica\n"
     ]
    },
    {
     "name": "stdout",
     "output_type": "stream",
     "text": [
      "number of links:\t 254\n",
      "\n",
      "Starting AP removal\n",
      "AP removal: iteration 1\n",
      "AP removal: 2 APs\n",
      "AP removal: removed 447 nodes\n",
      "AP removal: iteration 2\n",
      "AP removal: 0 APs\n",
      "AP removal: removed 12 nodes\n"
     ]
    },
    {
     "name": "stderr",
     "output_type": "stream",
     "text": [
      "findfont: Generic family 'sans-serif' not found because none of the following families were found: Helvetica\n",
      "findfont: Generic family 'sans-serif' not found because none of the following families were found: Helvetica\n",
      "findfont: Generic family 'sans-serif' not found because none of the following families were found: Helvetica\n",
      "findfont: Generic family 'sans-serif' not found because none of the following families were found: Helvetica\n",
      "findfont: Generic family 'sans-serif' not found because none of the following families were found: Helvetica\n",
      "findfont: Generic family 'sans-serif' not found because none of the following families were found: Helvetica\n",
      "findfont: Generic family 'sans-serif' not found because none of the following families were found: Helvetica\n",
      "findfont: Generic family 'sans-serif' not found because none of the following families were found: Helvetica\n",
      "findfont: Generic family 'sans-serif' not found because none of the following families were found: Helvetica\n"
     ]
    },
    {
     "name": "stdout",
     "output_type": "stream",
     "text": [
      "kmin:  1.25\n",
      "C:  0.7430129033555886\n",
      "R:  17.628470118538765\n",
      "number of links:\t 6155\n",
      "\n",
      "Starting AP removal\n"
     ]
    },
    {
     "name": "stderr",
     "output_type": "stream",
     "text": [
      "findfont: Font family ['sans-serif'] not found. Falling back to DejaVu Sans.\n",
      "findfont: Generic family 'sans-serif' not found because none of the following families were found: Helvetica\n"
     ]
    },
    {
     "name": "stdout",
     "output_type": "stream",
     "text": [
      "AP removal: iteration 1\n",
      "AP removal: 644 APs\n",
      "AP removal: removed 2116 nodes\n",
      "AP removal: iteration 2\n",
      "AP removal: 31 APs\n",
      "AP removal: removed 2030 nodes\n",
      "AP removal: iteration 3\n",
      "AP removal: 7 APs\n",
      "AP removal: removed 63 nodes\n",
      "AP removal: iteration 4\n",
      "AP removal: 2 APs\n",
      "AP removal: removed 9 nodes\n",
      "AP removal: iteration 5\n",
      "AP removal: 0 APs\n",
      "AP removal: removed 1 nodes\n",
      "kmin:  2.5\n",
      "C:  1.4860258067111771\n",
      "R:  16.242175757418874\n",
      "number of links:\t 12254\n",
      "\n",
      "Starting AP removal\n",
      "AP removal: iteration 1\n",
      "AP removal: 467 APs\n",
      "AP removal: removed 602 nodes\n",
      "AP removal: iteration 2\n",
      "AP removal: 187 APs\n",
      "AP removal: removed 2817 nodes\n",
      "AP removal: iteration 3\n",
      "AP removal: 25 APs\n",
      "AP removal: removed 1165 nodes\n",
      "AP removal: iteration 4\n",
      "AP removal: 21 APs\n",
      "AP removal: removed 69 nodes\n",
      "AP removal: iteration 5\n",
      "AP removal: 9 APs\n",
      "AP removal: removed 128 nodes\n",
      "AP removal: iteration 6\n",
      "AP removal: 5 APs\n",
      "AP removal: removed 36 nodes\n",
      "AP removal: iteration 7\n",
      "AP removal: 5 APs\n",
      "AP removal: removed 13 nodes\n",
      "AP removal: iteration 8\n",
      "AP removal: 3 APs\n",
      "AP removal: removed 6 nodes\n",
      "AP removal: iteration 9\n",
      "AP removal: 0 APs\n",
      "AP removal: removed 3 nodes\n",
      "kmin:  3.75\n",
      "C:  2.229038710066766\n",
      "R:  15.431245541202545\n",
      "number of links:\t 18158\n",
      "\n",
      "Starting AP removal\n",
      "AP removal: iteration 1\n",
      "AP removal: 142 APs\n",
      "AP removal: removed 160 nodes\n",
      "AP removal: iteration 2\n",
      "AP removal: 101 APs\n",
      "AP removal: removed 285 nodes\n",
      "AP removal: iteration 3\n",
      "AP removal: 87 APs\n",
      "AP removal: removed 248 nodes\n",
      "AP removal: iteration 4\n",
      "AP removal: 59 APs\n",
      "AP removal: removed 228 nodes\n",
      "AP removal: iteration 5\n",
      "AP removal: 29 APs\n",
      "AP removal: removed 204 nodes\n",
      "AP removal: iteration 6\n",
      "AP removal: 20 APs\n",
      "AP removal: removed 92 nodes\n",
      "AP removal: iteration 7\n",
      "AP removal: 15 APs\n",
      "AP removal: removed 122 nodes\n",
      "AP removal: iteration 8\n",
      "AP removal: 8 APs\n",
      "AP removal: removed 61 nodes\n",
      "AP removal: iteration 9\n",
      "AP removal: 4 APs\n",
      "AP removal: removed 63 nodes\n",
      "AP removal: iteration 10\n",
      "AP removal: 0 APs\n",
      "AP removal: removed 2 nodes\n",
      "kmin:  5.0\n",
      "C:  2.9720516134223542\n",
      "R:  14.855881396298983\n",
      "number of links:\t 24210\n",
      "\n",
      "Starting AP removal\n",
      "AP removal: iteration 1\n",
      "AP removal: 56 APs\n",
      "AP removal: removed 56 nodes\n",
      "AP removal: iteration 2\n",
      "AP removal: 29 APs\n",
      "AP removal: removed 83 nodes\n",
      "AP removal: iteration 3\n",
      "AP removal: 13 APs\n",
      "AP removal: removed 51 nodes\n",
      "AP removal: iteration 4\n",
      "AP removal: 3 APs\n",
      "AP removal: removed 15 nodes\n",
      "AP removal: iteration 5\n",
      "AP removal: 0 APs\n",
      "AP removal: removed 7 nodes\n"
     ]
    }
   ],
   "source": [
    "fig, axes = plt.subplots(\n",
    "    nrows=len(gamma_vals),\n",
    "    ncols=len(kbar_vals),\n",
    "    figsize=(12, 12),\n",
    "    subplot_kw={'projection': 'polar'},\n",
    ")\n",
    "for i, gamma in enumerate(gamma_vals):\n",
    "    for j, kbar in enumerate(kbar_vals):\n",
    "        if len(gamma_vals) == 1:\n",
    "            ax = axes[j]\n",
    "        elif len(kbar_vals) == 1:\n",
    "            ax = axes[i]\n",
    "        else:\n",
    "            ax = axes[i, j]\n",
    "        plot_monoplex_with_ap_removal(N, gamma, kbar, T, ax=ax)\n",
    "\n",
    "        if j == 0:\n",
    "            ax.set_ylabel(fr'$\\lambda = {gamma}$')\n",
    "        if i == len(gamma_vals) - 1:\n",
    "            ax.set_xlabel(fr'$c = {kbar}$')\n",
    "\n",
    "        if i == 0 and j == len(kbar_vals) - 1:\n",
    "            ax.legend(\n",
    "                bbox_to_anchor=(1, 1, .5, .15),\n",
    "                loc='upper left',\n",
    "                numpoints=1,\n",
    "                markerscale=1.,\n",
    "                prop={'size': 6},\n",
    "            )"
   ]
  },
  {
   "cell_type": "code",
   "execution_count": 5,
   "metadata": {},
   "outputs": [
    {
     "name": "stderr",
     "output_type": "stream",
     "text": [
      "findfont: Generic family 'sans-serif' not found because none of the following families were found: Helvetica\n",
      "findfont: Generic family 'sans-serif' not found because none of the following families were found: Helvetica\n"
     ]
    }
   ],
   "source": [
    "fig.savefig('vary_c_with_ap_removal.pdf', bbox_inches='tight')"
   ]
  }
 ],
 "metadata": {
  "kernelspec": {
   "display_name": "graphs",
   "language": "python",
   "name": "python3"
  },
  "language_info": {
   "codemirror_mode": {
    "name": "ipython",
    "version": 3
   },
   "file_extension": ".py",
   "mimetype": "text/x-python",
   "name": "python",
   "nbconvert_exporter": "python",
   "pygments_lexer": "ipython3",
   "version": "3.10.4"
  }
 },
 "nbformat": 4,
 "nbformat_minor": 2
}
