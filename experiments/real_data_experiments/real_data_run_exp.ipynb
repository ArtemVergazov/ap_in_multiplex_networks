{
 "cells": [
  {
   "cell_type": "markdown",
   "metadata": {},
   "source": [
    "# Preliminaries"
   ]
  },
  {
   "cell_type": "code",
   "execution_count": 1,
   "metadata": {},
   "outputs": [],
   "source": [
    "import random\n",
    "import os\n",
    "from copy import deepcopy\n",
    "\n",
    "import networkx as nx\n",
    "import numpy as np\n",
    "import matplotlib.pyplot as plt\n",
    "import pandas as pd\n",
    "import pymnet"
   ]
  },
  {
   "cell_type": "code",
   "execution_count": 2,
   "metadata": {},
   "outputs": [],
   "source": [
    "# %matplotlib inline"
   ]
  },
  {
   "cell_type": "code",
   "execution_count": 3,
   "metadata": {},
   "outputs": [
    {
     "data": {
      "text/plain": [
       "({'Air_Train': ['Air network', 'Train network'],\n",
       "  'arXiv': ['physics.bioph category',\n",
       "   'cond-mat.disnn category',\n",
       "   'physics.soc-ph',\n",
       "   'physics.data-an category',\n",
       "   'math.OC category',\n",
       "   'cond-mat.stat-mech category',\n",
       "   'q-bio.MN category',\n",
       "   'cs.SI category'],\n",
       "  'C. Elegans Connectomme': ['Electric',\n",
       "   'Chemical Monadic',\n",
       "   'Chemical Polyadic'],\n",
       "  'Drosophila Melanogaster': ['suppressive genetic interaction',\n",
       "   'additive genetic interaction'],\n",
       "  'Human Brain': ['structural brain network', 'functional brain network'],\n",
       "  'IPv4_IPv6 Internet': ['IPv4 topology', 'IPv6 topology'],\n",
       "  'Physicians': ['advice', 'discussion', 'friendship'],\n",
       "  'Rattus': ['physical association', 'direct interaction'],\n",
       "  'SacchPomb': ['direct interaction',\n",
       "   'colocalization',\n",
       "   'physical association',\n",
       "   'synthetic genetic interaction',\n",
       "   'association'],\n",
       "  'London_Multiplex_Transport': ['Tube (All underground lines aggregated)',\n",
       "   'Overground',\n",
       "   'DLR'],\n",
       "  'NYClimateMarch2014_Multiplex_Social': ['RT', 'MT', 'RE'],\n",
       "  'Cannes2013_Multiplex_Social': ['RT', 'MT', 'RE'],\n",
       "  'MoscowAthletics2013_Multiplex_Social': ['RT', 'MT', 'RE'],\n",
       "  'MLKing2013_Multiplex_Social': ['RT', 'MT', 'RE'],\n",
       "  'ObamaInIsrael2013_Multiplex_Social': ['RT', 'MT', 'RE'],\n",
       "  'CS-Aarhus_Multiplex_Social': ['lunch',\n",
       "   'facebook',\n",
       "   'coauthor',\n",
       "   'leisure',\n",
       "   'work'],\n",
       "  'Arabidopsis_Multiplex_Genetic': ['direct_interaction',\n",
       "   'physical_association',\n",
       "   'additive_genetic_interaction_defined_by_inequality',\n",
       "   'suppressive_genetic_interaction_defined_by_inequality',\n",
       "   'synthetic_genetic_interaction_defined_by_inequality',\n",
       "   'association',\n",
       "   'colocalization'],\n",
       "  'Bos_Multiplex_Genetic': ['physical_association',\n",
       "   'association',\n",
       "   'direct_interaction',\n",
       "   'colocalization'],\n",
       "  'Celegans_Multiplex_Genetic': ['direct_interaction',\n",
       "   'physical_association',\n",
       "   'additive_genetic_interaction_defined_by_inequality',\n",
       "   'suppressive_genetic_interaction_defined_by_inequality',\n",
       "   'association',\n",
       "   'colocalization'],\n",
       "  'Drosophila_Multiplex_Genetic': ['direct_interaction',\n",
       "   'suppressive_genetic_interaction_defined_by_inequality',\n",
       "   'additive_genetic_interaction_defined_by_inequality',\n",
       "   'physical_association',\n",
       "   'colocalization',\n",
       "   'association',\n",
       "   'synthetic_genetic_interaction_defined_by_inequality'],\n",
       "  'SacchCere_Multiplex_Genetic': ['physical_association',\n",
       "   'suppressive_genetic_interaction_defined_by_inequality',\n",
       "   'direct_interaction',\n",
       "   'synthetic_genetic_interaction_defined_by_inequality',\n",
       "   'association',\n",
       "   'colocalization',\n",
       "   'additive_genetic_interaction_defined_by_inequality'],\n",
       "  'YeastLandscape_Multiplex_Genetic': ['positive_interactions',\n",
       "   'negative_interactions',\n",
       "   'positive_correlations',\n",
       "   'negative_correlations'],\n",
       "  'CovMulNet19': ['COVID19-GDDS332', 'COVID19-GDDS457']},\n",
       " ['Air_Train',\n",
       "  'arXiv',\n",
       "  'C. Elegans Connectomme',\n",
       "  'Drosophila Melanogaster',\n",
       "  'Human Brain',\n",
       "  'IPv4_IPv6 Internet',\n",
       "  'Physicians',\n",
       "  'Rattus',\n",
       "  'SacchPomb',\n",
       "  'London_Multiplex_Transport',\n",
       "  'NYClimateMarch2014_Multiplex_Social',\n",
       "  'Cannes2013_Multiplex_Social',\n",
       "  'MoscowAthletics2013_Multiplex_Social',\n",
       "  'MLKing2013_Multiplex_Social',\n",
       "  'ObamaInIsrael2013_Multiplex_Social',\n",
       "  'CS-Aarhus_Multiplex_Social',\n",
       "  'Arabidopsis_Multiplex_Genetic',\n",
       "  'Bos_Multiplex_Genetic',\n",
       "  'Celegans_Multiplex_Genetic',\n",
       "  'Drosophila_Multiplex_Genetic',\n",
       "  'SacchCere_Multiplex_Genetic',\n",
       "  'YeastLandscape_Multiplex_Genetic',\n",
       "  'CovMulNet19'])"
      ]
     },
     "execution_count": 3,
     "metadata": {},
     "output_type": "execute_result"
    }
   ],
   "source": [
    "data_path = 'multiplex_embeddings_data'\n",
    "datasets_layer_description = {  # {dataset: [layer_1 description, layer_2 description, ...]}\n",
    "    'Air_Train': [\n",
    "        'Air network',\n",
    "        'Train network',\n",
    "    ],\n",
    "    'arXiv': [\n",
    "        'physics.bioph category',\n",
    "        'cond-mat.disnn category',\n",
    "        'physics.soc-ph',\n",
    "        'physics.data-an category',\n",
    "        'math.OC category',\n",
    "        'cond-mat.stat-mech category',\n",
    "        'q-bio.MN category',\n",
    "        'cs.SI category',\n",
    "    ],\n",
    "    'C. Elegans Connectomme': [\n",
    "        'Electric',\n",
    "        'Chemical Monadic',\n",
    "        'Chemical Polyadic',\n",
    "    ],\n",
    "    'Drosophila Melanogaster': [  # meh\n",
    "        'suppressive genetic interaction',\n",
    "        'additive genetic interaction',\n",
    "    ],\n",
    "    'Human Brain': [\n",
    "        'structural brain network',\n",
    "        'functional brain network',\n",
    "    ],\n",
    "    'IPv4_IPv6 Internet': [  # meh\n",
    "        'IPv4 topology',\n",
    "        'IPv6 topology',\n",
    "    ],\n",
    "    'Physicians': [\n",
    "        'advice',\n",
    "        'discussion',\n",
    "        'friendship',\n",
    "    ],\n",
    "    'Rattus': [  # meh\n",
    "        'physical association',\n",
    "        'direct interaction',\n",
    "    ],\n",
    "    'SacchPomb': [\n",
    "        'direct interaction',\n",
    "        'colocalization',\n",
    "        'physical association',\n",
    "        'synthetic genetic interaction',\n",
    "        'association',\n",
    "    ],\n",
    "    'London_Multiplex_Transport': [\n",
    "        'Tube (All underground lines aggregated)',\n",
    "        'Overground',\n",
    "        'DLR',\n",
    "    ],\n",
    "    'NYClimateMarch2014_Multiplex_Social': [\n",
    "        'RT',\n",
    "        'MT',\n",
    "        'RE',\n",
    "    ],\n",
    "    'Cannes2013_Multiplex_Social': [\n",
    "        'RT',\n",
    "        'MT',\n",
    "        'RE',\n",
    "    ],\n",
    "    'MoscowAthletics2013_Multiplex_Social': [\n",
    "        'RT',\n",
    "        'MT',\n",
    "        'RE',\n",
    "    ],\n",
    "    'MLKing2013_Multiplex_Social': [\n",
    "        'RT',\n",
    "        'MT',\n",
    "        'RE',\n",
    "    ],\n",
    "    'ObamaInIsrael2013_Multiplex_Social': [\n",
    "        'RT',\n",
    "        'MT',\n",
    "        'RE',\n",
    "    ],\n",
    "    'CS-Aarhus_Multiplex_Social': [\n",
    "        'lunch',\n",
    "        'facebook',\n",
    "        'coauthor',\n",
    "        'leisure',\n",
    "        'work',\n",
    "    ],\n",
    "    'Arabidopsis_Multiplex_Genetic': [\n",
    "        'direct_interaction',\n",
    "        'physical_association',\n",
    "        'additive_genetic_interaction_defined_by_inequality',\n",
    "        'suppressive_genetic_interaction_defined_by_inequality',\n",
    "        'synthetic_genetic_interaction_defined_by_inequality',\n",
    "        'association',\n",
    "        'colocalization',\n",
    "    ],\n",
    "    'Bos_Multiplex_Genetic': [\n",
    "        'physical_association',\n",
    "        'association',\n",
    "        'direct_interaction',\n",
    "        'colocalization',\n",
    "    ],\n",
    "    'Celegans_Multiplex_Genetic': [\n",
    "        'direct_interaction',\n",
    "        'physical_association',\n",
    "        'additive_genetic_interaction_defined_by_inequality',\n",
    "        'suppressive_genetic_interaction_defined_by_inequality',\n",
    "        'association',\n",
    "        'colocalization',\n",
    "    ],\n",
    "    'Drosophila_Multiplex_Genetic': [\n",
    "        'direct_interaction',\n",
    "        'suppressive_genetic_interaction_defined_by_inequality',\n",
    "        'additive_genetic_interaction_defined_by_inequality',\n",
    "        'physical_association',\n",
    "        'colocalization',\n",
    "        'association',\n",
    "        'synthetic_genetic_interaction_defined_by_inequality',\n",
    "    ],\n",
    "    'SacchCere_Multiplex_Genetic': [\n",
    "        'physical_association',\n",
    "        'suppressive_genetic_interaction_defined_by_inequality',\n",
    "        'direct_interaction',\n",
    "        'synthetic_genetic_interaction_defined_by_inequality',\n",
    "        'association',\n",
    "        'colocalization',\n",
    "        'additive_genetic_interaction_defined_by_inequality',\n",
    "    ],\n",
    "    'YeastLandscape_Multiplex_Genetic': [\n",
    "        'positive_interactions',\n",
    "        'negative_interactions',\n",
    "        'positive_correlations',\n",
    "        'negative_correlations',\n",
    "    ],\n",
    "    'CovMulNet19': [\n",
    "        'COVID19-GDDS332',\n",
    "        'COVID19-GDDS457',\n",
    "    ],\n",
    "}\n",
    "dataset_names = list(datasets_layer_description.keys())\n",
    "datasets_layer_description, dataset_names"
   ]
  },
  {
   "cell_type": "code",
   "execution_count": 4,
   "metadata": {},
   "outputs": [],
   "source": [
    "def random_relabel(G):\n",
    "    nodes = list(G.nodes)\n",
    "    random.shuffle(nodes)\n",
    "    return nx.relabel_nodes(G, dict(zip(G.nodes, nodes)))"
   ]
  },
  {
   "cell_type": "code",
   "execution_count": 5,
   "metadata": {},
   "outputs": [],
   "source": [
    "def find_component(node, connected_components):\n",
    "    for i, component in enumerate(connected_components):\n",
    "        if node in component:\n",
    "            return i\n",
    "    raise ValueError(f'Component for node {node} not found')"
   ]
  },
  {
   "cell_type": "code",
   "execution_count": 6,
   "metadata": {},
   "outputs": [],
   "source": [
    "def cascade_remove_links(G):\n",
    "\n",
    "    keep_going = True\n",
    "    while keep_going:\n",
    "        keep_going = False\n",
    "\n",
    "        clusters_in_layers = [list(nx.connected_components(g)) for g in G]\n",
    "\n",
    "        for i, g in enumerate(G):\n",
    "            clusters_to_search = clusters_in_layers[:i] + clusters_in_layers[i + 1:]\n",
    "            for edge in g.edges():\n",
    "                if any(find_component(edge[0], clusters) != find_component(edge[1], clusters)\n",
    "                       for clusters in clusters_to_search):\n",
    "                    keep_going = True\n",
    "                    g.remove_edge(*edge)\n",
    "    \n",
    "    return G"
   ]
  },
  {
   "cell_type": "code",
   "execution_count": 7,
   "metadata": {},
   "outputs": [],
   "source": [
    "def articulation_points_multiplex(G):\n",
    "    ap = set(nx.articulation_points(G[0]))\n",
    "    return ap.union(*[nx.articulation_points(g) for g in G[1:]])"
   ]
  },
  {
   "cell_type": "code",
   "execution_count": 8,
   "metadata": {},
   "outputs": [],
   "source": [
    "def max_comp(g):\n",
    "    return max(nx.connected_components(g), key=len)"
   ]
  },
  {
   "cell_type": "code",
   "execution_count": 9,
   "metadata": {},
   "outputs": [],
   "source": [
    "def remove_ap(G):\n",
    "    G = cascade_remove_links(G)\n",
    "\n",
    "    gcc = max_comp(G[0])\n",
    "    gcc_size = len(gcc)\n",
    "\n",
    "    for g in G:\n",
    "        g.remove_nodes_from([n for n in g if n not in gcc])\n",
    "\n",
    "    art_points = articulation_points_multiplex(G)\n",
    "\n",
    "    for g in G:\n",
    "        g.remove_nodes_from(art_points)\n",
    "\n",
    "    return G, art_points, gcc_size"
   ]
  },
  {
   "cell_type": "code",
   "execution_count": 56,
   "metadata": {},
   "outputs": [],
   "source": [
    "def draw_two_layer(G_orig, G, layer_labels, show_labels, pos, ax):\n",
    "    \"\"\"Supports only one or two layers\n",
    "    \"\"\"\n",
    "    onet = pymnet.MultiplexNetwork(couplings='categorical')\n",
    "    for label in layer_labels:\n",
    "        onet.add_layer(label)\n",
    "    L = len(layer_labels)\n",
    "\n",
    "    GRAY = '#84817a'\n",
    "    BLACK = '#485460'\n",
    "\n",
    "    art_points = articulation_points_multiplex(G)\n",
    "    removed = [n for n in G_orig[0] if n not in G[0]]\n",
    "    node_colors = {(node, layer): 'r'\n",
    "                   for layer in layer_labels\n",
    "                   for node in art_points}\n",
    "    node_colors.update({(node, layer): GRAY\n",
    "                        for layer in layer_labels\n",
    "                        for node in removed})\n",
    "    edge_colors = {}\n",
    "    edge_alpha = {}\n",
    "    edge_width = {}\n",
    "\n",
    "    for n in G_orig[0].nodes:\n",
    "        onet.add_node(n)\n",
    "        if L == 2:\n",
    "            edge_width[((n, layer_labels[0]), (n, layer_labels[1]))] = .2\n",
    "\n",
    "    for label, g in zip(layer_labels, G_orig):\n",
    "        for e1, e2 in g.edges:\n",
    "            onet[e1, e2, label] = 1\n",
    "            if e1 in removed or e2 in removed:\n",
    "                # edge_colors[((e1, 'Facebook'), (e2, 'Facebook'))] = GRAY\n",
    "                edge_alpha[((e1, label), (e2, label))] = .3\n",
    "                # edge_width[((e1, 'Facebook'), (e2, 'Facebook'))] = .2\n",
    "            else:\n",
    "                # edge_width[((e1, 'Facebook'), (e2, 'Facebook'))] = .5\n",
    "                edge_colors[((e1, label), (e2, label))] = BLACK\n",
    "\n",
    "    \n",
    "\n",
    "    return pymnet.draw(\n",
    "        onet,\n",
    "        elev=20,\n",
    "        layergap=1.35,\n",
    "        camera_dist=10,\n",
    "        figsize=(24, 8),\n",
    "        nodeCoords=pos,\n",
    "        ax=ax,\n",
    "        defaultLayerColor='#e8f8f8',\n",
    "        # defaultLayerColor='#81ecec',\n",
    "        # defaultLayerColor='#dff9fb',\n",
    "        layerLabelDict={} if show_labels else {lbl: None for lbl in layer_labels},\n",
    "        defaultLayerLabelLoc=(.7, 1),\n",
    "        defaultLayerLabelSize=20,\n",
    "        nodeLabelRule={},\n",
    "        nodeColorDict=node_colors,\n",
    "        edgeColorDict=edge_colors,\n",
    "        # edgeWidthDict=edge_width,\n",
    "        defaultEdgeWidth=.2,\n",
    "        edgeAlphaDict=edge_alpha,\n",
    "    )"
   ]
  },
  {
   "cell_type": "code",
   "execution_count": 57,
   "metadata": {},
   "outputs": [],
   "source": [
    "def draw_process(G, pos, layer_labels, figtitle):\n",
    "    plt.close('all')\n",
    "    G_orig = deepcopy(G)\n",
    "    ap_steps = []\n",
    "\n",
    "    while True:\n",
    "        G = cascade_remove_links(G)\n",
    "        gcc = max_comp(G[0])\n",
    "        for g in G:\n",
    "            g.remove_nodes_from([n for n in g if n not in gcc])\n",
    "\n",
    "        ap_steps.append(deepcopy(G))\n",
    "\n",
    "        art_points = articulation_points_multiplex(G)\n",
    "        for g in G:\n",
    "            g.remove_nodes_from(art_points)\n",
    "        if not art_points:\n",
    "            break\n",
    "\n",
    "    fig, ax = plt.subplots(nrows=1, ncols=len(ap_steps), squeeze=False,\n",
    "                           subplot_kw=dict(projection='3d'),\n",
    "                           figsize=(24, 6),\n",
    "                           layout='constrained')\n",
    "    for i in range(len(ap_steps)):\n",
    "        draw_two_layer(G_orig, ap_steps[i], layer_labels, i == 0, pos, ax[0, i])\n",
    "    fig.draw_without_rendering()\n",
    "    fig.savefig(figtitle)"
   ]
  },
  {
   "cell_type": "code",
   "execution_count": 58,
   "metadata": {},
   "outputs": [],
   "source": [
    "plt.close('all')"
   ]
  },
  {
   "cell_type": "markdown",
   "metadata": {},
   "source": [
    "# Load dataset"
   ]
  },
  {
   "cell_type": "code",
   "execution_count": 26,
   "metadata": {},
   "outputs": [
    {
     "data": {
      "text/plain": [
       "23"
      ]
     },
     "execution_count": 26,
     "metadata": {},
     "output_type": "execute_result"
    }
   ],
   "source": [
    "len(dataset_names)"
   ]
  },
  {
   "cell_type": "code",
   "execution_count": 27,
   "metadata": {},
   "outputs": [],
   "source": [
    "dataset_name = dataset_names[15]\n",
    "random_relabeling = False"
   ]
  },
  {
   "cell_type": "code",
   "execution_count": 28,
   "metadata": {},
   "outputs": [
    {
     "name": "stdout",
     "output_type": "stream",
     "text": [
      "Loading CS-Aarhus_Multiplex_Social\n",
      "Graph with 60 nodes and 193 edges\n",
      "Graph with 32 nodes and 124 edges\n",
      "Graph with 25 nodes and 21 edges\n",
      "Graph with 47 nodes and 88 edges\n",
      "Graph with 60 nodes and 194 edges\n"
     ]
    }
   ],
   "source": [
    "print(f'Loading {dataset_name}')\n",
    "path = os.path.join(data_path, dataset_name)\n",
    "\n",
    "layer_paths = [\n",
    "    os.path.join(path, f'l_{i}.txt')\n",
    "    for i in range(1, len(datasets_layer_description[dataset_name]) + 1)\n",
    "]\n",
    "G_loaded = [nx.read_edgelist(\n",
    "        layer_path,\n",
    "        create_using=nx.Graph,\n",
    "        nodetype=int,\n",
    "    ) for layer_path in layer_paths]\n",
    "\n",
    "if random_relabeling:\n",
    "    for i, g in enumerate(G_loaded[1:]):\n",
    "        G_loaded[i + 1] = random_relabel(g)\n",
    "print(*G_loaded, sep='\\n')"
   ]
  },
  {
   "cell_type": "markdown",
   "metadata": {},
   "source": [
    "# Preprocessing"
   ]
  },
  {
   "cell_type": "code",
   "execution_count": 29,
   "metadata": {},
   "outputs": [
    {
     "name": "stdout",
     "output_type": "stream",
     "text": [
      "Graph with 60 nodes and 193 edges\n",
      "Graph with 60 nodes and 194 edges\n"
     ]
    }
   ],
   "source": [
    "G = [g for g in G_loaded if len(g) > 50]\n",
    "# G = [g for g in G_loaded if len(g.edges) > 8000]\n",
    "print(*G, sep='\\n')"
   ]
  },
  {
   "cell_type": "code",
   "execution_count": 30,
   "metadata": {},
   "outputs": [],
   "source": [
    "# for g in G:\n",
    "#     g.remove_nodes_from([n for n in g if len(g[n]) < 3])\n",
    "# print(*G, sep='\\n')"
   ]
  },
  {
   "cell_type": "code",
   "execution_count": 31,
   "metadata": {},
   "outputs": [
    {
     "name": "stdout",
     "output_type": "stream",
     "text": [
      "Only 59 real nodes that are present in all layers\n"
     ]
    }
   ],
   "source": [
    "possible_nodes = set(G[0].nodes).union(\n",
    "    *(set(g.nodes) for g in G[1:]),\n",
    ")\n",
    "real_nodes = possible_nodes.intersection(*(g.nodes for g in G))\n",
    "\n",
    "print(f'Only {len(real_nodes)} real nodes that are present in all layers')"
   ]
  },
  {
   "cell_type": "code",
   "execution_count": 32,
   "metadata": {},
   "outputs": [
    {
     "name": "stdout",
     "output_type": "stream",
     "text": [
      "Dropping 2 redundant nodes\n"
     ]
    }
   ],
   "source": [
    "print(f'Dropping {len(possible_nodes) - len(real_nodes)} redundant nodes')\n",
    "for g in G:\n",
    "    g.remove_nodes_from([n for n in g if n not in real_nodes])"
   ]
  },
  {
   "cell_type": "code",
   "execution_count": 33,
   "metadata": {},
   "outputs": [
    {
     "name": "stdout",
     "output_type": "stream",
     "text": [
      "Layer 1:\n",
      "  Size: 59\n",
      "  Edges: 191\n",
      "  Mean degree: 6.47457627118644\n",
      "Layer 2:\n",
      "  Size: 59\n",
      "  Edges: 192\n",
      "  Mean degree: 6.508474576271187\n"
     ]
    },
    {
     "name": "stderr",
     "output_type": "stream",
     "text": [
      "C:\\Users\\kuzne\\AppData\\Local\\Temp\\ipykernel_18908\\1406227281.py:42: UserWarning: Matplotlib is currently using agg, which is a non-GUI backend, so cannot show the figure.\n",
      "  fig.show()\n"
     ]
    }
   ],
   "source": [
    "fig, ax = plt.subplots(nrows=len(G), ncols=1, figsize=(6, 3 * len(G)))\n",
    "for i, g in enumerate(G):\n",
    "\n",
    "    print(f'Layer {i + 1}:')\n",
    "    print(f'  Size: {len(g)}')\n",
    "    print(f'  Edges: {len(g.edges)}')\n",
    "\n",
    "    degree_sequence = sorted((d for _, d in g.degree), reverse=True)\n",
    "    print(f'  Mean degree: {np.mean(degree_sequence)}')\n",
    "\n",
    "    # sorted_nodes = sorted(g.nodes)\n",
    "    # mn, mx = sorted_nodes[0], sorted_nodes[-1]\n",
    "    # if all(n1 == n2 for n1, n2 in zip(sorted_nodes, range(mn, mx + 1))):\n",
    "    # # if sorted_nodes == list(range(mn, mx + 1)):\n",
    "    #     print(f'  Nodes are labeled through {mn}:{mx}')\n",
    "    # else:\n",
    "    #     gaps = [n for n in range(mn, mx + 1) if n not in sorted_nodes]\n",
    "    #     print(f'  Nodes are labeled through {mn}:{mx} with {len(gaps)} gaps {gaps}')\n",
    "    \n",
    "    # ax[i, 0].set_title('Degree distribution')\n",
    "    # ax[i, 0].bar(*np.unique(degree_sequence, return_counts=True), width=.8)\n",
    "\n",
    "    # ax[i, 1].set_title('Degree distribution (log)')\n",
    "    # ax[i, 1].hist(degree_sequence, bins=np.logspace(np.log10(1), np.log10(len(g)), num=len(g)), rwidth=.8)\n",
    "    # # ax[i, 1].hist(degree_sequence, bins=len(g), rwidth=.8)\n",
    "    # ax[i, 1].set_xscale('log')\n",
    "    # ax[i, 1].set_yscale('log')\n",
    "    # # ax2.plot(np.exp(np.arange(1, np.log10(len(G)))), 1000 - 2.5 * np.exp(np.arange(1, np.log10(len(G)))))\n",
    "\n",
    "    if len(g) < 1000:\n",
    "        ax[i].set_title(f'Layer {i + 1}')\n",
    "        # gcc = g.subgraph(sorted(nx.connected_components(g), key=len, reverse=True)[0])\n",
    "        # pos = nx.kamada_kawai_layout(g)\n",
    "        pos = nx.spring_layout(g)\n",
    "        nx.draw_networkx_nodes(g, pos, ax=ax[i], node_size=20)\n",
    "        ap = nx.articulation_points(g)\n",
    "        nx.draw_networkx_nodes(g.subgraph(ap), pos, ax=ax[i], node_size=20, node_color='r')\n",
    "        nx.draw_networkx_edges(g, pos, ax=ax[i], alpha=.4, arrows=True)\n",
    "        ax[i].set_axis_off()\n",
    "\n",
    "fig.tight_layout()\n",
    "fig.show()"
   ]
  },
  {
   "cell_type": "markdown",
   "metadata": {},
   "source": [
    "# Experiment"
   ]
  },
  {
   "cell_type": "code",
   "execution_count": null,
   "metadata": {},
   "outputs": [],
   "source": [
    "G = [nx.erdos_renyi_graph(5000, 3 / 4999),\n",
    "     nx.erdos_renyi_graph(5000, 3 / 4999)]"
   ]
  },
  {
   "cell_type": "code",
   "execution_count": null,
   "metadata": {},
   "outputs": [],
   "source": [
    "G, ap, gcc_size = remove_ap(G)\n",
    "G, ap, len(ap), gcc_size\n"
   ]
  },
  {
   "cell_type": "code",
   "execution_count": null,
   "metadata": {},
   "outputs": [],
   "source": [
    "for i, g in enumerate(G):\n",
    "    g = nx.relabel_nodes(g, dict(zip(G[0].nodes, range(len(G[0])))))\n",
    "    nx.write_edgelist(g, f'cpp_data/l_{i + 1}.txt', data=False)"
   ]
  },
  {
   "cell_type": "code",
   "execution_count": null,
   "metadata": {},
   "outputs": [],
   "source": []
  },
  {
   "cell_type": "markdown",
   "metadata": {},
   "source": [
    "# Plots"
   ]
  },
  {
   "cell_type": "code",
   "execution_count": null,
   "metadata": {},
   "outputs": [],
   "source": [
    "# G = [\n",
    "#     nx.Graph([\n",
    "#         (0, 1), (0, 2), (1, 3), (2, 3), (3, 4), (3, 5),\n",
    "#         (4, 7), (4, 6), (5, 6), (5, 8), (6, 7), (6, 8), (7, 9), (8, 9),\n",
    "#         (0, 3), (3, 6), (6, 9),\n",
    "#     ]),\n",
    "#     nx.Graph([\n",
    "#         (0, 1), (0, 2), (1, 3), (2, 3), (3, 4), (3, 5), (1, 4), (2, 5),\n",
    "#         (4, 6), (5, 6), (6, 7), (6, 8), (7, 9), (8, 9),\n",
    "#         (0, 3), (3, 6), (6, 9),\n",
    "#     ]),\n",
    "# ]"
   ]
  },
  {
   "cell_type": "code",
   "execution_count": 51,
   "metadata": {},
   "outputs": [],
   "source": [
    "# pos = nx.kamada_kawai_layout(G[0])\n",
    "pos = nx.kamada_kawai_layout(G[1])\n",
    "# pos = nx.circular_layout(G[0])\n",
    "# pos = nx.planar_layout(G[0])\n",
    "# pos = nx.shell_layout(G[0])\n",
    "# pos = nx.spring_layout(G[0])\n",
    "# pos = nx.spring_layout(G[1])"
   ]
  },
  {
   "cell_type": "code",
   "execution_count": 59,
   "metadata": {},
   "outputs": [],
   "source": [
    "draw_process(deepcopy(G), pos, ['Lunch', 'Work'], 'figs/real_multiplex_example.pdf')\n",
    "# draw_process(G, pos, ['IPv4', 'IPv6'], 'figs/internet')"
   ]
  },
  {
   "cell_type": "code",
   "execution_count": null,
   "metadata": {},
   "outputs": [],
   "source": [
    "# draw_process(\n",
    "#     G, pos,\n",
    "#     [\n",
    "#         '1',\n",
    "#         # '2',\n",
    "#     ],\n",
    "#     # 'figs/toy_example/toy_example',\n",
    "#     'figs/toy_example/toy_example_1',\n",
    "# )"
   ]
  }
 ],
 "metadata": {
  "kernelspec": {
   "display_name": "graphs",
   "language": "python",
   "name": "python3"
  },
  "language_info": {
   "codemirror_mode": {
    "name": "ipython",
    "version": 3
   },
   "file_extension": ".py",
   "mimetype": "text/x-python",
   "name": "python",
   "nbconvert_exporter": "python",
   "pygments_lexer": "ipython3",
   "version": "3.10.9"
  },
  "orig_nbformat": 4
 },
 "nbformat": 4,
 "nbformat_minor": 2
}
