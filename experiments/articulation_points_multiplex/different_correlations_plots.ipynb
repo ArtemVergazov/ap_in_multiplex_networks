{
 "cells": [
  {
   "cell_type": "code",
   "execution_count": 1,
   "metadata": {},
   "outputs": [],
   "source": [
    "import json\n",
    "import numpy as np\n",
    "import matplotlib.pyplot as plt\n",
    "import seaborn as sns"
   ]
  },
  {
   "cell_type": "code",
   "execution_count": 13,
   "metadata": {},
   "outputs": [
    {
     "data": {
      "text/plain": [
       "['nu_0_g_0',\n",
       " 'nu_0_g_0.2',\n",
       " 'nu_0_g_0.4',\n",
       " 'nu_0_g_0.6',\n",
       " 'nu_0_g_0.8',\n",
       " 'nu_0_g_1',\n",
       " 'nu_0.2_g_0',\n",
       " 'nu_0.2_g_0.2',\n",
       " 'nu_0.2_g_0.4',\n",
       " 'nu_0.2_g_0.6',\n",
       " 'nu_0.2_g_0.8',\n",
       " 'nu_0.2_g_1',\n",
       " 'nu_0.4_g_0',\n",
       " 'nu_0.4_g_0.2',\n",
       " 'nu_0.4_g_0.4',\n",
       " 'nu_0.4_g_0.6',\n",
       " 'nu_0.4_g_0.8',\n",
       " 'nu_0.4_g_1',\n",
       " 'nu_0.6_g_0',\n",
       " 'nu_0.6_g_0.2',\n",
       " 'nu_0.6_g_0.4',\n",
       " 'nu_0.6_g_0.6',\n",
       " 'nu_0.6_g_0.8',\n",
       " 'nu_0.6_g_1',\n",
       " 'nu_0.8_g_0',\n",
       " 'nu_0.8_g_0.2',\n",
       " 'nu_0.8_g_0.4',\n",
       " 'nu_0.8_g_0.6',\n",
       " 'nu_0.8_g_0.8',\n",
       " 'nu_0.8_g_1',\n",
       " 'nu_1_g_0',\n",
       " 'nu_1_g_0.2',\n",
       " 'nu_1_g_0.4',\n",
       " 'nu_1_g_0.6',\n",
       " 'nu_1_g_0.8',\n",
       " 'nu_1_g_1']"
      ]
     },
     "execution_count": 13,
     "metadata": {},
     "output_type": "execute_result"
    }
   ],
   "source": [
    "nus = np.arange(0., 1. + .2, .2)\n",
    "gs = np.arange(0., 1. + .2, .2)\n",
    "\n",
    "nu_labels = ['0', '0.2', '0.4', '0.6', '0.8', '1']\n",
    "g_labels = ['0', '0.2', '0.4', '0.6', '0.8', '1']\n",
    "\n",
    "experiments = []\n",
    "for nu_label in nu_labels:\n",
    "    for g_label in g_labels:\n",
    "        experiments.append(f'nu_{nu_label}_g_{g_label}')\n",
    "experiments"
   ]
  },
  {
   "cell_type": "code",
   "execution_count": 3,
   "metadata": {},
   "outputs": [],
   "source": [
    "t_lim = 10"
   ]
  },
  {
   "cell_type": "code",
   "execution_count": 4,
   "metadata": {},
   "outputs": [
    {
     "name": "stdout",
     "output_type": "stream",
     "text": [
      "lambda_2.5: 100000 10 [0.0, 20.0, 200]\n",
      "lambda_2.5_3: 100000 10 [0.0, 12.0, 200]\n",
      "lambda_2.5_3.5: 100000 10 [0.0, 12.0, 200]\n",
      "lambda_2.5_4: 100000 10 [0.0, 12.0, 200]\n",
      "lambda_3: 100000 10 [0.0, 12.0, 200]\n",
      "lambda_3_3.5: 100000 10 [0.0, 12.0, 200]\n",
      "lambda_3_4: 100000 10 [0.0, 12.0, 200]\n",
      "lambda_3.5: 100000 10 [0.0, 12.0, 200]\n",
      "lambda_3.5_4: 100000 10 [0.0, 12.0, 200]\n",
      "lambda_4: 100000 10 [0.0, 12.0, 200]\n"
     ]
    }
   ],
   "source": [
    "critical_values = {}\n",
    "for experiment in experiments:\n",
    "    with open(f'results/different_correlations/results_{experiment}.json', 'r') as f:\n",
    "        results = json.load(f)\n",
    "    N = results['N']\n",
    "    nruns = results['nruns']\n",
    "    crange = np.linspace(*results['crange'])\n",
    "    print(f'{experiment}: {N} {nruns} {results[\"crange\"]}')\n",
    "    results = results['results']\n",
    "\n",
    "    T = []\n",
    "    for result in results:\n",
    "        T.append(np.mean([\n",
    "            max(item['t'] for item in run['cascade'])\n",
    "            for run in result['runs']\n",
    "        ]))\n",
    "\n",
    "    max_t = max(item['t']\n",
    "                for result in results\n",
    "                for run in result['runs']\n",
    "                for item in run['cascade'])\n",
    "    \n",
    "    n_ap = {t: [] for t in range(max_t + 1)}\n",
    "    gcc_size = {t: [] for t in range(max_t + 1)}\n",
    "\n",
    "    for result in results:\n",
    "\n",
    "        n_ap_loc = {t: 0 for t in range(max_t + 1)}\n",
    "        gcc_size_loc = {t: 0 for t in range(max_t + 1)}\n",
    "        num_gcc_t = {t: 0 for t in range(max_t + 1)}\n",
    "\n",
    "        for run in result['runs']:\n",
    "            for item in run['cascade']:\n",
    "\n",
    "                n_ap_loc[item['t']] += item['n_ap']\n",
    "                gcc_size_loc[item['t']] += item['gcc_size']\n",
    "                num_gcc_t[item['t']] += 1\n",
    "\n",
    "        for t in range(max_t + 1):\n",
    "\n",
    "            n_ap[t].append(n_ap_loc[t] / nruns / N)\n",
    "            gcc_size[t].append(gcc_size_loc[t] / num_gcc_t[t] / N\n",
    "                            if num_gcc_t[t]\n",
    "                            else gcc_size[t - 1][-1])\n",
    "    \n",
    "    t = min(10, max_t)\n",
    "    critical_values[experiment] = {\n",
    "        # 'c_crit': crange[np.argmax(n_ap[t])],\n",
    "        'c_crit': crange[np.argmax(T)],\n",
    "        't': t,\n",
    "    }"
   ]
  },
  {
   "cell_type": "code",
   "execution_count": 5,
   "metadata": {},
   "outputs": [
    {
     "data": {
      "text/plain": [
       "{'lambda_2.5': {'c_crit': 13.869346733668342, 't': 10},\n",
       " 'lambda_2.5_3': {'c_crit': 11.336683417085426, 't': 10},\n",
       " 'lambda_2.5_3.5': {'c_crit': 10.733668341708542, 't': 10},\n",
       " 'lambda_2.5_4': {'c_crit': 10.4321608040201, 't': 10},\n",
       " 'lambda_3': {'c_crit': 8.442211055276381, 't': 10},\n",
       " 'lambda_3_3.5': {'c_crit': 7.71859296482412, 't': 10},\n",
       " 'lambda_3_4': {'c_crit': 7.417085427135678, 't': 10},\n",
       " 'lambda_3.5': {'c_crit': 6.994974874371859, 't': 10},\n",
       " 'lambda_3.5_4': {'c_crit': 6.693467336683417, 't': 10},\n",
       " 'lambda_4': {'c_crit': 6.331658291457286, 't': 10}}"
      ]
     },
     "execution_count": 5,
     "metadata": {},
     "output_type": "execute_result"
    }
   ],
   "source": [
    "critical_values"
   ]
  },
  {
   "cell_type": "code",
   "execution_count": 6,
   "metadata": {},
   "outputs": [
    {
     "data": {
      "text/plain": [
       "array([[13.86934673, 11.33668342, 10.73366834, 10.4321608 ],\n",
       "       [11.33668342,  8.44221106,  7.71859296,  7.41708543],\n",
       "       [10.73366834,  7.71859296,  6.99497487,  6.69346734],\n",
       "       [10.4321608 ,  7.41708543,  6.69346734,  6.33165829]])"
      ]
     },
     "execution_count": 6,
     "metadata": {},
     "output_type": "execute_result"
    }
   ],
   "source": [
    "c_crit = [\n",
    "    [\n",
    "        critical_values['lambda_2.5']['c_crit'],\n",
    "        critical_values['lambda_2.5_3']['c_crit'],\n",
    "        critical_values['lambda_2.5_3.5']['c_crit'],\n",
    "        critical_values['lambda_2.5_4']['c_crit'],\n",
    "    ],\n",
    "    [\n",
    "        critical_values['lambda_2.5_3']['c_crit'],\n",
    "        critical_values['lambda_3']['c_crit'],\n",
    "        critical_values['lambda_3_3.5']['c_crit'],\n",
    "        critical_values['lambda_3_4']['c_crit'],\n",
    "    ],\n",
    "    [\n",
    "        critical_values['lambda_2.5_3.5']['c_crit'],\n",
    "        critical_values['lambda_3_3.5']['c_crit'],\n",
    "        critical_values['lambda_3.5']['c_crit'],\n",
    "        critical_values['lambda_3.5_4']['c_crit'],\n",
    "    ],\n",
    "    [\n",
    "        critical_values['lambda_2.5_4']['c_crit'],\n",
    "        critical_values['lambda_3_4']['c_crit'],\n",
    "        critical_values['lambda_3.5_4']['c_crit'],\n",
    "        critical_values['lambda_4']['c_crit'],\n",
    "    ]\n",
    "]\n",
    "c_crit = np.array(c_crit)\n",
    "c_crit"
   ]
  },
  {
   "cell_type": "code",
   "execution_count": 7,
   "metadata": {},
   "outputs": [
    {
     "data": {
      "text/plain": [
       "array([[ True,  True,  True,  True],\n",
       "       [ True,  True,  True,  True],\n",
       "       [ True,  True,  True,  True],\n",
       "       [ True,  True,  True,  True]])"
      ]
     },
     "execution_count": 7,
     "metadata": {},
     "output_type": "execute_result"
    }
   ],
   "source": [
    "c_crit == c_crit.T"
   ]
  },
  {
   "cell_type": "code",
   "execution_count": 8,
   "metadata": {},
   "outputs": [],
   "source": [
    "plt.rc('text', usetex=True)\n",
    "plt.rc('font', size=22, **{'family': 'sans-serif', 'sans-serif': ['Helvetica']})\n",
    "plt.rcParams['xtick.major.pad'] = 8\n",
    "plt.rcParams['ytick.major.pad'] = 8\n",
    "plt.rcParams['savefig.bbox'] = 'tight'"
   ]
  },
  {
   "cell_type": "code",
   "execution_count": 15,
   "metadata": {},
   "outputs": [
    {
     "data": {
      "image/png": "[encoded data removed]",
      "text/plain": [
       "<Figure size 640x480 with 2 Axes>"
      ]
     },
     "metadata": {},
     "output_type": "display_data"
    }
   ],
   "source": [
    "# ticklabels = [fr'${lamb}$' for lamb in lambdas]\n",
    "ticklabels = lambdas\n",
    "# annot = []\n",
    "# for i in c_crit[::-1, :]:\n",
    "#     annot.append([])\n",
    "#     for j in i:\n",
    "#         annot[-1].append(fr'${round(j, 2)}$')\n",
    "ax = sns.heatmap(\n",
    "    c_crit[::-1, :],\n",
    "    xticklabels=ticklabels,\n",
    "    yticklabels=list(reversed(ticklabels)),\n",
    "    annot=True,\n",
    "    fmt='.2f',\n",
    ")\n",
    "ax.set_xlabel(r'$\\lambda_1$')\n",
    "ax.set_ylabel(r'$\\lambda_2$')\n",
    "ax.set_title(r'$c^*(\\lambda_1, \\lambda_2)$')\n",
    "ax.get_figure().savefig('lambda_phase_space.pdf')"
   ]
  },
  {
   "cell_type": "code",
   "execution_count": null,
   "metadata": {},
   "outputs": [],
   "source": []
  }
 ],
 "metadata": {
  "kernelspec": {
   "display_name": "graphs",
   "language": "python",
   "name": "python3"
  },
  "language_info": {
   "codemirror_mode": {
    "name": "ipython",
    "version": 3
   },
   "file_extension": ".py",
   "mimetype": "text/x-python",
   "name": "python",
   "nbconvert_exporter": "python",
   "pygments_lexer": "ipython3",
   "version": "3.10.4"
  },
  "orig_nbformat": 4
 },
 "nbformat": 4,
 "nbformat_minor": 2
}
