{
 "cells": [
  {
   "cell_type": "code",
   "execution_count": 1,
   "metadata": {},
   "outputs": [],
   "source": [
    "import networkx as nx"
   ]
  },
  {
   "cell_type": "code",
   "execution_count": 2,
   "metadata": {},
   "outputs": [],
   "source": [
    "G = nx.Graph()\n",
    "G.add_edges_from([\n",
    "    (1, 2),\n",
    "    (2, 3), (2, 4), (2, 5), (2, 7), (2, 24), (2, 6), (2, 11), (2, 10), (2, 8), (2, 9),\n",
    "    (5, 6),\n",
    "    (6, 7), (6, 23), (6, 14), (6, 8),\n",
    "    (8, 9), (8, 10),\n",
    "    (10, 11),\n",
    "    (11, 12),\n",
    "    (12, 13),\n",
    "    (13, 55), (13, 24), (13, 21), (13, 20), (13, 19), (13, 15), (13, 14),\n",
    "    (14, 23), (14, 22), (14, 15),\n",
    "    (15, 22), (15, 19), (15, 20), (15, 18), (15, 17), (15, 16),\n",
    "    (19, 22), (19, 20),\n",
    "    (20, 21),\n",
    "    (23, 55), (23, 24),\n",
    "    (24, 55), (24, 57), (24, 52), (24, 38), (24, 48), (24, 53), (24, 47), (24, 34), (24, 58), (24, 51), (24, 59), (24, 60), (24, 30), (24, 28), (24, 27), (24, 26), (24, 25), (24, 54),\n",
    "    (27, 60), (27, 51), (27, 59), (27, 41), (27, 30), (27, 29), (27, 28),\n",
    "    (28, 51), (28, 29),\n",
    "    (29, 60), (29, 51), (29, 59), (29, 30),\n",
    "    (30, 60), (30, 51), (30, 59), (30, 44), (30, 31),\n",
    "    (31, 44), (31, 32),\n",
    "    (32, 44), (32, 40), (32, 42), (32, 33),\n",
    "    (33, 40), (33, 38),\n",
    "    (34, 45), (34, 59), (34, 51), (34, 47), (34, 48), (34, 38), (34, 49), (34, 35), (34, 50), (34, 61), (34, 46), (34, 43),\n",
    "    (35, 37), (35, 36), (35, 46), (35, 45), (35, 38),\n",
    "    (36, 37), (36, 38),\n",
    "    (37, 38),\n",
    "    (38, 46), (38, 45), (38, 42), (38, 40), (38, 39),\n",
    "    (40, 42), (40, 43), (40, 41), (40, 51),\n",
    "    (42, 59), (42, 47),\n",
    "    (43, 45), (43, 44), (43, 59),\n",
    "    (45, 46), (45, 59), (45, 51), (45, 47),\n",
    "    (47, 48), (47, 51), (47, 53), (47, 55), (47, 54), (47, 57),\n",
    "    (48, 49), (48, 51),\n",
    "    (49, 50), (49, 61),\n",
    "    (51, 57), (51, 54), (51, 52), (51, 59), (51, 60), (51, 58), (51, 53), (51, 55),\n",
    "    (52, 62), (52, 53),\n",
    "    (53, 58), (53, 55), (53, 54),\n",
    "    (54, 55),\n",
    "    (55, 56), (55, 57), (55, 58),\n",
    "    (56, 57),\n",
    "    (59, 60),\n",
    "])"
   ]
  },
  {
   "cell_type": "code",
   "execution_count": 3,
   "metadata": {},
   "outputs": [],
   "source": [
    "nx.write_edgelist(G, 'terrorist_edgelist.txt', data=False)"
   ]
  },
  {
   "cell_type": "code",
   "execution_count": null,
   "metadata": {},
   "outputs": [],
   "source": [
    "import pygraphviz as pgv"
   ]
  },
  {
   "cell_type": "code",
   "execution_count": null,
   "metadata": {},
   "outputs": [],
   "source": [
    "G = nx.read_edgelist('terrorist_edgelist.txt', create_using=nx.Graph(), data=False)"
   ]
  },
  {
   "cell_type": "code",
   "execution_count": null,
   "metadata": {},
   "outputs": [],
   "source": [
    "fig, ax = plt.subplots(figsize=(12, 7))\n",
    "\n",
    "pos = nx.kamada_kawai_layout(G)\n",
    "# pos = nx.spiral_layout(G)\n",
    "\n",
    "nx.draw_networkx_nodes(G, pos, ax=ax, node_size=20, node_color='#636e72')\n",
    "ap = nx.articulation_points(G)\n",
    "nx.draw_networkx_nodes(G.subgraph(ap), pos, ax=ax, node_size=20, node_color='#d63031')\n",
    "nx.draw_networkx_edges(G, pos, ax=ax, alpha=.5, arrows=True, node_size=70)\n",
    "ax.set_axis_off()"
   ]
  },
  {
   "cell_type": "code",
   "execution_count": null,
   "metadata": {},
   "outputs": [],
   "source": [
    "A = nx.nx_agraph.to_agraph(G)\n",
    "A.layout()\n",
    "A.draw('terrorist_network.png')"
   ]
  }
 ],
 "metadata": {
  "kernelspec": {
   "display_name": "graphs",
   "language": "python",
   "name": "python3"
  },
  "language_info": {
   "codemirror_mode": {
    "name": "ipython",
    "version": 3
   },
   "file_extension": ".py",
   "mimetype": "text/x-python",
   "name": "python",
   "nbconvert_exporter": "python",
   "pygments_lexer": "ipython3",
   "version": "3.10.4"
  }
 },
 "nbformat": 4,
 "nbformat_minor": 2
}
