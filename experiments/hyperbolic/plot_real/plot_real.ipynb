{
 "cells": [
  {
   "cell_type": "code",
   "execution_count": 1,
   "metadata": {},
   "outputs": [],
   "source": [
    "import os\n",
    "import sys\n",
    "\n",
    "import matplotlib.pyplot as plt\n",
    "import numpy as np\n",
    "import networkx as nx\n",
    "\n",
    "if os.path.abspath('..') not in sys.path:\n",
    "    sys.path.append(os.path.abspath('..'))\n",
    "from draw_hyperbolic import draw_hyperbolic_multiplex\n",
    "import Hyperbolic as hyp"
   ]
  },
  {
   "cell_type": "code",
   "execution_count": 2,
   "metadata": {},
   "outputs": [
    {
     "name": "stdout",
     "output_type": "stream",
     "text": [
      "Graph with 60 nodes and 193 edges\n",
      "Graph with 32 nodes and 124 edges\n",
      "Graph with 25 nodes and 21 edges\n",
      "Graph with 47 nodes and 88 edges\n",
      "Graph with 60 nodes and 194 edges\n",
      "\n",
      "Graph with 60 nodes and 193 edges\n",
      "Graph with 60 nodes and 194 edges\n",
      "Only 59 real nodes that are present in all layers\n",
      "Dropping 2 redundant nodes\n"
     ]
    }
   ],
   "source": [
    "data_path = '../../real_data_experiments/multiplex_embeddings_data/CS-Aarhus_Multiplex_Social'\n",
    "layer_paths = [\n",
    "    os.path.join(data_path, f'l_{i}.txt')\n",
    "    for i in range(1, 5 + 1)\n",
    "]\n",
    "G_loaded = [nx.read_edgelist(\n",
    "    layer_path,\n",
    "    create_using=nx.Graph,\n",
    "    nodetype=int,\n",
    ") for layer_path in layer_paths]\n",
    "print(*G_loaded, sep='\\n')\n",
    "\n",
    "G = [g for g in G_loaded if len(g) > 50]\n",
    "# G = [g for g in G_loaded if len(g.edges) > 8000]\n",
    "print()\n",
    "print(*G, sep='\\n')\n",
    "\n",
    "possible_nodes = set(G[0].nodes).union(\n",
    "    *(set(g.nodes) for g in G[1:]),\n",
    ")\n",
    "real_nodes = possible_nodes.intersection(*(g.nodes for g in G))\n",
    "print(f'Only {len(real_nodes)} real nodes that are present in all layers')\n",
    "\n",
    "print(f'Dropping {len(possible_nodes) - len(real_nodes)} redundant nodes')\n",
    "for g in G:\n",
    "    g.remove_nodes_from([n for n in g if n not in real_nodes])"
   ]
  },
  {
   "cell_type": "code",
   "execution_count": 47,
   "metadata": {},
   "outputs": [],
   "source": [
    "for i, g in enumerate(G):\n",
    "    g = nx.relabel_nodes(g, dict(zip(G[0].nodes, range(len(G[0])))))\n",
    "    nx.write_edgelist(g, f'network{i + 1}.txt', data=False)"
   ]
  },
  {
   "cell_type": "code",
   "execution_count": 3,
   "metadata": {},
   "outputs": [],
   "source": [
    "coords1 = np.array(hyp.ReadCoordinates('coordinates_embedding_1.txt'))\n",
    "coords2 = np.array(hyp.ReadCoordinates('coordinates_embedding_2.txt'))"
   ]
  },
  {
   "cell_type": "code",
   "execution_count": 4,
   "metadata": {},
   "outputs": [
    {
     "data": {
      "text/plain": [
       "[]"
      ]
     },
     "execution_count": 4,
     "metadata": {},
     "output_type": "execute_result"
    }
   ],
   "source": [
    "[n for n in coords1[:, 0] if n not in coords2[:, 0]]"
   ]
  },
  {
   "cell_type": "code",
   "execution_count": 5,
   "metadata": {},
   "outputs": [
    {
     "data": {
      "text/plain": [
       "[2.0]"
      ]
     },
     "execution_count": 5,
     "metadata": {},
     "output_type": "execute_result"
    }
   ],
   "source": [
    "[n for n in coords2[:, 0] if n not in coords1[:, 0]]"
   ]
  },
  {
   "cell_type": "code",
   "execution_count": 6,
   "metadata": {},
   "outputs": [
    {
     "data": {
      "text/plain": [
       "array([2.        , 5.81      , 6.38012254])"
      ]
     },
     "execution_count": 6,
     "metadata": {},
     "output_type": "execute_result"
    }
   ],
   "source": [
    "coords2[0, :]"
   ]
  },
  {
   "cell_type": "code",
   "execution_count": 7,
   "metadata": {},
   "outputs": [],
   "source": [
    "coords1 = np.vstack((coords1, coords2[0]))"
   ]
  },
  {
   "cell_type": "code",
   "execution_count": 8,
   "metadata": {},
   "outputs": [],
   "source": [
    "r1 = coords1[:, 2]\n",
    "r2 = coords2[:, 2]\n",
    "\n",
    "theta1 = coords1[:, 1]\n",
    "theta2 = coords2[:, 1]"
   ]
  },
  {
   "cell_type": "code",
   "execution_count": 9,
   "metadata": {},
   "outputs": [
    {
     "name": "stdout",
     "output_type": "stream",
     "text": [
      "number of links:\t 191\n",
      "number of links:\t 192\n"
     ]
    }
   ],
   "source": [
    "links1 = hyp.ReadLinks('network1.txt')\n",
    "links2 = hyp.ReadLinks('network2.txt')"
   ]
  },
  {
   "cell_type": "code",
   "execution_count": 10,
   "metadata": {},
   "outputs": [],
   "source": [
    "plt.rc('text', usetex=True)\n",
    "plt.rc('font', size=22, **{'family': 'sans-serif', 'sans-serif': ['Helvetica']})\n",
    "plt.rcParams['xtick.major.pad'] = 8\n",
    "plt.rcParams['ytick.major.pad'] = 8"
   ]
  },
  {
   "cell_type": "code",
   "execution_count": 17,
   "metadata": {},
   "outputs": [
    {
     "name": "stdout",
     "output_type": "stream",
     "text": [
      "\n",
      "Starting AP removal\n",
      "AP removal: iteration 1\n",
      "AP removal: 3 APs\n",
      "AP removal: iteration 2\n",
      "AP removal: 3 APs\n",
      "AP removal: iteration 3\n",
      "AP removal: 2 APs\n",
      "AP removal: iteration 4\n",
      "AP removal: 0 APs\n"
     ]
    }
   ],
   "source": [
    "fig, ax = plt.subplots(\n",
    "    nrows=1, ncols=2,\n",
    "    figsize=(10, 6),\n",
    "    subplot_kw=dict(projection='polar'),\n",
    ")\n",
    "plt.subplots_adjust(left=0, bottom=0, right=1, top=1)\n",
    "draw_hyperbolic_multiplex(links1, links2, r1, r2, theta1, theta2, *ax, ms=6)\n",
    "ax[0].set_title(r'$\\mathrm{Lunch}$')\n",
    "ax[1].set_title(r'$\\mathrm{Work}$')\n",
    "fig.savefig('real_hyperbolic.pdf')"
   ]
  },
  {
   "cell_type": "code",
   "execution_count": null,
   "metadata": {},
   "outputs": [],
   "source": []
  }
 ],
 "metadata": {
  "kernelspec": {
   "display_name": "graphs",
   "language": "python",
   "name": "python3"
  },
  "language_info": {
   "codemirror_mode": {
    "name": "ipython",
    "version": 3
   },
   "file_extension": ".py",
   "mimetype": "text/x-python",
   "name": "python",
   "nbconvert_exporter": "python",
   "pygments_lexer": "ipython3",
   "version": "3.10.4"
  }
 },
 "nbformat": 4,
 "nbformat_minor": 2
}
