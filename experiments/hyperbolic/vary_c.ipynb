{
 "cells": [
  {
   "cell_type": "code",
   "execution_count": 14,
   "metadata": {},
   "outputs": [],
   "source": [
    "import matplotlib.pyplot as plt\n",
    "from Main import plot_multiplex_with_ap_removal"
   ]
  },
  {
   "cell_type": "code",
   "execution_count": 15,
   "metadata": {},
   "outputs": [],
   "source": [
    "plt.rc('text', usetex=True)\n",
    "plt.rc('font', size=22, **{'family': 'sans-serif', 'sans-serif': ['Helvetica']})\n",
    "plt.rcParams['xtick.major.pad'] = 8\n",
    "plt.rcParams['ytick.major.pad'] = 8"
   ]
  },
  {
   "cell_type": "code",
   "execution_count": 64,
   "metadata": {},
   "outputs": [],
   "source": [
    "N = 100\n",
    "T = .4\n",
    "gamma = 3.\n",
    "nu = 1."
   ]
  },
  {
   "cell_type": "code",
   "execution_count": 121,
   "metadata": {},
   "outputs": [],
   "source": [
    "g_vals = [.6, .7, .8, .9, 1.]\n",
    "g_vals = [.6, 1.]\n",
    "kbar_vals = [5., 6., 7., 8., 9., 10.]\n",
    "kbar_vals = [5, 10]"
   ]
  },
  {
   "cell_type": "code",
   "execution_count": 130,
   "metadata": {},
   "outputs": [
    {
     "name": "stdout",
     "output_type": "stream",
     "text": [
      "\n",
      "g = 0.6, c = 5\n",
      "\n",
      "number of links:\t 196\n",
      "number of links:\t 201\n",
      "\n",
      "Starting AP removal\n",
      "AP removal: iteration 1\n",
      "AP removal: 20 APs\n",
      "AP removal: iteration 2\n",
      "AP removal: 6 APs\n",
      "AP removal: iteration 3\n",
      "AP removal: 7 APs\n",
      "AP removal: iteration 4\n",
      "AP removal: 2 APs\n",
      "AP removal: iteration 5\n",
      "AP removal: 0 APs\n",
      "\n",
      "g = 0.6, c = 10\n",
      "\n",
      "number of links:\t 400\n",
      "number of links:\t 385\n",
      "\n",
      "Starting AP removal\n",
      "AP removal: iteration 1\n",
      "AP removal: 6 APs\n",
      "AP removal: iteration 2\n",
      "AP removal: 4 APs\n",
      "AP removal: iteration 3\n",
      "AP removal: 4 APs\n",
      "AP removal: iteration 4\n",
      "AP removal: 4 APs\n",
      "AP removal: iteration 5\n",
      "AP removal: 7 APs\n",
      "AP removal: iteration 6\n",
      "AP removal: 0 APs\n",
      "\n",
      "g = 1.0, c = 5\n",
      "\n",
      "number of links:\t 196\n",
      "number of links:\t 196\n",
      "\n",
      "Starting AP removal\n",
      "AP removal: iteration 1\n",
      "AP removal: 13 APs\n",
      "AP removal: iteration 2\n",
      "AP removal: 4 APs\n",
      "AP removal: iteration 3\n",
      "AP removal: 6 APs\n",
      "AP removal: iteration 4\n",
      "AP removal: 0 APs\n",
      "\n",
      "g = 1.0, c = 10\n",
      "\n",
      "number of links:\t 400\n",
      "number of links:\t 400\n",
      "\n",
      "Starting AP removal\n",
      "AP removal: iteration 1\n",
      "AP removal: 3 APs\n",
      "AP removal: iteration 2\n",
      "AP removal: 0 APs\n"
     ]
    }
   ],
   "source": [
    "fig = plt.figure(\n",
    "    figsize=(12, 12),\n",
    "    layout='constrained',\n",
    ")\n",
    "subfigs = fig.subfigures(nrows=len(g_vals), ncols=len(kbar_vals), wspace=.2, hspace=.01)\n",
    "# fig, axes = plt.subplots(\n",
    "#     nrows=len(g_vals),\n",
    "#     ncols=len(kbar_vals),\n",
    "#     figsize=(12, 12),\n",
    "#     subplot_kw={'projection': 'polar'},\n",
    "# )\n",
    "for i, g in enumerate(g_vals):\n",
    "    for j, kbar in enumerate(kbar_vals):\n",
    "\n",
    "        print(f'\\n{g = }, c = {kbar}\\n')\n",
    "\n",
    "        if len(g_vals) == 1:\n",
    "            subfig = subfigs[j]\n",
    "        elif len(kbar_vals) == 1:\n",
    "            subfig = subfigs[i]\n",
    "        else:\n",
    "            subfig = subfigs[i, j]\n",
    "        subfig.set_facecolor('0.75')\n",
    "\n",
    "        # if i == len(g_vals) - 1:\n",
    "        #     ax = subfig.add_subplot(111, frameon=False)\n",
    "        #     ax.set_xlabel(fr'$c = {kbar}$')\n",
    "        #     ax.spines['top'].set_color('none')\n",
    "        #     ax.spines['bottom'].set_color('none')\n",
    "        #     ax.spines['left'].set_color('none')\n",
    "        #     ax.spines['right'].set_color('none')\n",
    "        #     ax.tick_params(labelcolor='w', top=False, bottom=False, left=False, right=False)\n",
    "        #     ax.set_xlabel(fr'$c = {kbar}$')\n",
    "            # subfig.suptitle(fr'$c = {kbar}$', fontsize='x-large')\n",
    "\n",
    "        ax1, ax2 = subfig.subplots(1, 2, subplot_kw={'projection': 'polar'})\n",
    "        plot_multiplex_with_ap_removal(N, gamma, kbar, T, nu, g, ax1, ax2)\n",
    "        # subfig.subplots_adjust(left=0, right=1, bottom=0, top=1, wspace=0)\n",
    "\n",
    "        if j == 0:\n",
    "            ax1.set_ylabel(fr'$g = {g}$')\n",
    "\n",
    "# plt.subplots_adjust(bottom=0, top=1, left=.05, right=.95, wspace=0)\n",
    "# fig.subplots_adjust(bottom=0, top=1, left=0, right=1, wspace=.1, hspace=.1)"
   ]
  },
  {
   "cell_type": "code",
   "execution_count": 131,
   "metadata": {},
   "outputs": [],
   "source": [
    "fig.savefig(\n",
    "    'vary_c_with_ap_removal.pdf',\n",
    "    bbox_inches='tight',\n",
    ")"
   ]
  },
  {
   "cell_type": "code",
   "execution_count": null,
   "metadata": {},
   "outputs": [],
   "source": []
  },
  {
   "cell_type": "code",
   "execution_count": null,
   "metadata": {},
   "outputs": [],
   "source": []
  }
 ],
 "metadata": {
  "kernelspec": {
   "display_name": "graphs",
   "language": "python",
   "name": "python3"
  },
  "language_info": {
   "codemirror_mode": {
    "name": "ipython",
    "version": 3
   },
   "file_extension": ".py",
   "mimetype": "text/x-python",
   "name": "python",
   "nbconvert_exporter": "python",
   "pygments_lexer": "ipython3",
   "version": "3.10.9"
  }
 },
 "nbformat": 4,
 "nbformat_minor": 2
}
